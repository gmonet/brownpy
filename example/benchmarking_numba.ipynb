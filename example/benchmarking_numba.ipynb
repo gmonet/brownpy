{
 "cells": [
  {
   "cell_type": "code",
   "execution_count": 1,
   "source": [
    "import numpy as np\r\n",
    "from numba import cuda\r\n",
    "import cupy as cp\r\n",
    "from cupyx.time import repeat\r\n",
    "from brownpy.utils import set_cuda_array\r\n",
    "N=100_000\r\n",
    "dtype=np.float32\r\n",
    "\r\n"
   ],
   "outputs": [],
   "metadata": {}
  },
  {
   "cell_type": "code",
   "execution_count": 10,
   "source": [
    "def test1():\r\n",
    "    a = np.zeros(N)\r\n",
    "    d_a = cuda.to_device(a)\r\n",
    "    d_a.copy_to_host(a)\r\n",
    "print(repeat(test1, n_repeat=100, n_warmup=10))"
   ],
   "outputs": [
    {
     "output_type": "stream",
     "name": "stderr",
     "text": [
      "C:\\Users\\monet\\anaconda3\\lib\\site-packages\\cupyx\\time.py:115: FutureWarning: cupyx.time.repeat is experimental. The interface can change in the future.\n",
      "  _util.experimental('cupyx.time.repeat')\n"
     ]
    },
    {
     "output_type": "stream",
     "name": "stdout",
     "text": [
      "test1               :    CPU: 1646.293 us   +/-454.376 (min: 1237.300 / max: 3237.400) us     GPU-0: 1681.179 us   +/-458.008 (min: 1252.352 / max: 3314.688) us\n"
     ]
    }
   ],
   "metadata": {}
  },
  {
   "cell_type": "code",
   "execution_count": 15,
   "source": [
    "threadsperblock = 128\r\n",
    "blockspergrid = int(np.ceil(N/threadsperblock))\r\n",
    "a = np.empty(N)\r\n",
    "d_a = cuda.to_device(a)\r\n",
    "def test2():\r\n",
    "    set_cuda_array[blockspergrid, threadsperblock](a, 0)\r\n",
    "    d_a.copy_to_host(a)\r\n",
    "print(repeat(test2, n_repeat=100, n_warmup=10))"
   ],
   "outputs": [
    {
     "output_type": "stream",
     "name": "stdout",
     "text": [
      "test2               :    CPU: 2636.007 us   +/-832.954 (min: 1744.900 / max: 6426.300) us     GPU-0: 2676.962 us   +/-842.345 (min: 1767.552 / max: 6521.856) us\n"
     ]
    }
   ],
   "metadata": {}
  },
  {
   "cell_type": "code",
   "execution_count": 26,
   "source": [
    "threadsperblock = 16\r\n",
    "blockspergrid = int(np.ceil(N/threadsperblock))\r\n",
    "p_a = cuda.pinned_array(shape = (N,), dtype=dtype)\r\n",
    "def test3():\r\n",
    "    set_cuda_array[blockspergrid, threadsperblock](p_a, 0)\r\n",
    "    # d_a.copy_to_host(a)\r\n",
    "print(repeat(test3, n_repeat=100, n_warmup=10))"
   ],
   "outputs": [
    {
     "output_type": "stream",
     "name": "stdout",
     "text": [
      "test3               :    CPU: 1229.201 us   +/-442.802 (min:  889.200 / max: 3591.800) us     GPU-0: 1268.777 us   +/-456.851 (min:  887.808 / max: 3671.040) us\n"
     ]
    }
   ],
   "metadata": {}
  },
  {
   "cell_type": "code",
   "execution_count": 14,
   "source": [
    "def test4():\r\n",
    "    cp.zeros(shape=(N,)).get()\r\n",
    "print(repeat(test3, n_repeat=100, n_warmup=10))\r\n",
    "a"
   ],
   "outputs": [
    {
     "output_type": "stream",
     "name": "stderr",
     "text": [
      "C:\\Users\\monet\\anaconda3\\lib\\site-packages\\cupyx\\time.py:115: FutureWarning: cupyx.time.repeat is experimental. The interface can change in the future.\n",
      "  _util.experimental('cupyx.time.repeat')\n"
     ]
    },
    {
     "output_type": "stream",
     "name": "stdout",
     "text": [
      "test3               :    CPU: 1133.985 us   +/-286.686 (min:  881.000 / max: 2619.600) us     GPU-0: 1169.197 us   +/-292.729 (min:  914.432 / max: 2660.352) us\n"
     ]
    },
    {
     "output_type": "execute_result",
     "data": {
      "text/plain": [
       "array([9.12869372e-312, 9.12865377e-312, 0.00000000e+000, ...,\n",
       "       0.00000000e+000, 0.00000000e+000, 0.00000000e+000])"
      ]
     },
     "metadata": {},
     "execution_count": 14
    }
   ],
   "metadata": {}
  },
  {
   "cell_type": "code",
   "execution_count": null,
   "source": [],
   "outputs": [],
   "metadata": {}
  }
 ],
 "metadata": {
  "orig_nbformat": 4,
  "language_info": {
   "name": "python",
   "version": "3.8.8",
   "mimetype": "text/x-python",
   "codemirror_mode": {
    "name": "ipython",
    "version": 3
   },
   "pygments_lexer": "ipython3",
   "nbconvert_exporter": "python",
   "file_extension": ".py"
  },
  "kernelspec": {
   "name": "python3",
   "display_name": "Python 3.8.8 64-bit ('base': conda)"
  },
  "interpreter": {
   "hash": "d4ce2f0b9c719736e7f661a13fe0b346d5bd093966a3397b765b95efddff6c19"
  }
 },
 "nbformat": 4,
 "nbformat_minor": 2
}