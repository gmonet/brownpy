{
 "cells": [
  {
   "cell_type": "markdown",
   "source": [
    "# Simulation of brownian particles through a pore"
   ],
   "metadata": {}
  },
  {
   "cell_type": "markdown",
   "source": [
    "## Preamble"
   ],
   "metadata": {}
  },
  {
   "cell_type": "code",
   "execution_count": null,
   "source": [
    "import numpy as np\r\n",
    "import matplotlib.pyplot as plt\r\n",
    "\r\n",
    "from brownpy import Universe\r\n",
    "from brownpy.topology import ElasticPore1"
   ],
   "outputs": [],
   "metadata": {}
  },
  {
   "cell_type": "markdown",
   "source": [
    "## Define simulation setup"
   ],
   "metadata": {}
  },
  {
   "cell_type": "code",
   "execution_count": null,
   "source": [
    "N_particles = 8*1024 # Number of particles (power of 2 is better for gpu)\r\n",
    "D = 1.5E-4 # A²/fs  (1.5E-9 m²/s) - Diffusion coefficient\r\n",
    "dt = 1e6 # fs (1ns)\r\n",
    "seed = 1789 # Specify seed for reproductibility\r\n",
    "# Define geometry\r\n",
    "R = 10 # A (1nm) radius of the pore\r\n",
    "Lm = 1000 # A (100nm) distance between each pores\r\n",
    "L = 1E4 # A (1um) reservoir depth \r\n",
    "top = ElasticPore1(Lm, L, R, seed=seed) # Just an empty space\r\n",
    "# Define simulation setup\r\n",
    "u = Universe(top, N_particles, D, dt,\r\n",
    "             output_path='empty', overwrite=True)"
   ],
   "outputs": [],
   "metadata": {}
  },
  {
   "cell_type": "markdown",
   "source": [
    "## Plotting initial configuration"
   ],
   "metadata": {}
  },
  {
   "cell_type": "code",
   "execution_count": null,
   "source": [
    "fig, axes = plt.subplots(1,2, figsize=(10,4))\r\n",
    "u.plot(axes[0])\r\n",
    "u.plot(axes[1])\r\n",
    "axes[1].set_xlim(-300, 300)\r\n",
    "axes[1].set_ylim(-300, 300)"
   ],
   "outputs": [],
   "metadata": {}
  },
  {
   "cell_type": "markdown",
   "source": [
    "## Watching particle trajectory"
   ],
   "metadata": {}
  },
  {
   "cell_type": "code",
   "execution_count": null,
   "source": [
    "# Be carefull ! Here it will already generate 68MB of data !\r\n",
    "u.run(10_000, freq_dumps=10)"
   ],
   "outputs": [],
   "metadata": {}
  },
  {
   "cell_type": "code",
   "execution_count": null,
   "source": [
    "# Retrieving trajectory from output file and plot it\r\n",
    "traj = u.f['/run/0/trajectory']\r\n",
    "x = traj[:,0]\r\n",
    "# Getting index of particles that go through the pore\r\n",
    "temp = np.argsort(np.sum(x<0, axis=1)*np.sum(x>0, axis=1))[::-1] \r\n",
    "fig, ax = plt.subplots()\r\n",
    "top.plot(ax)\r\n",
    "i_particle = temp[1]\r\n",
    "x, y = traj[i_particle,0,:], traj[i_particle,1,:]\r\n",
    "ax.scatter(x, y, c=np.arange(traj.shape[2]), marker='.', cmap='jet', s=4)\r\n",
    "ax.set_aspect('equal')\r\n",
    "ax.set_xlim(x.min(), x.max())"
   ],
   "outputs": [],
   "metadata": {}
  },
  {
   "cell_type": "markdown",
   "source": [
    "## Show number of particles in specific region of space"
   ],
   "metadata": {}
  },
  {
   "cell_type": "code",
   "execution_count": null,
   "source": [
    "# Since we do not record trajectory we can make a longer simulation\r\n",
    "u.run(1_000_000)"
   ],
   "outputs": [],
   "metadata": {}
  },
  {
   "cell_type": "code",
   "execution_count": null,
   "source": [
    "# In-built topology has regions already defined by defaut.\r\n",
    "# However, you can specify it in 'run' function argument \r\n",
    "top.regions"
   ],
   "outputs": [],
   "metadata": {}
  },
  {
   "cell_type": "code",
   "execution_count": null,
   "source": [
    "# Let's plot it\r\n",
    "left = u.f['/run/1/regions/left']\r\n",
    "plt.plot(left)"
   ],
   "outputs": [],
   "metadata": {}
  }
 ],
 "metadata": {
  "orig_nbformat": 4,
  "language_info": {
   "name": "python",
   "version": "3.8.8",
   "mimetype": "text/x-python",
   "codemirror_mode": {
    "name": "ipython",
    "version": 3
   },
   "pygments_lexer": "ipython3",
   "nbconvert_exporter": "python",
   "file_extension": ".py"
  },
  "kernelspec": {
   "name": "python3",
   "display_name": "Python 3.8.8 64-bit ('base': conda)"
  },
  "interpreter": {
   "hash": "d4ce2f0b9c719736e7f661a13fe0b346d5bd093966a3397b765b95efddff6c19"
  }
 },
 "nbformat": 4,
 "nbformat_minor": 2
}