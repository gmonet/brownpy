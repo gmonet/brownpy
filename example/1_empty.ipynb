{
 "cells": [
  {
   "cell_type": "markdown",
   "source": [
    "# Simulation of brownian particles in empty space"
   ],
   "metadata": {}
  },
  {
   "cell_type": "markdown",
   "source": [
    "## Preamble"
   ],
   "metadata": {}
  },
  {
   "cell_type": "code",
   "execution_count": null,
   "source": [
    "import numpy as np\r\n",
    "import matplotlib.pyplot as plt\r\n",
    "\r\n",
    "from brownpy import Universe\r\n",
    "from brownpy.topology import Infinite"
   ],
   "outputs": [],
   "metadata": {}
  },
  {
   "cell_type": "markdown",
   "source": [
    "## Define simulation setup"
   ],
   "metadata": {}
  },
  {
   "cell_type": "code",
   "execution_count": null,
   "source": [
    "N_particles = 8*1024 # Number of particles (power of 2 is better for gpu)\r\n",
    "D = 1.5E-4 # A²/fs  (1.5E-9 m²/s) - Diffusion coefficient\r\n",
    "dt = 1e6 # fs (1ns)\r\n",
    "seed = 1789 # Specify seed for reproductibility\r\n",
    "# Define geometry\r\n",
    "top = Infinite(seed=seed) # Just an empty space\r\n",
    "# Define simulation setup\r\n",
    "u = Universe(top, N_particles, D, dt,\r\n",
    "             output_path='empty', overwrite=True)"
   ],
   "outputs": [],
   "metadata": {}
  },
  {
   "cell_type": "markdown",
   "source": [
    "## Watching particle trajectory"
   ],
   "metadata": {}
  },
  {
   "cell_type": "code",
   "execution_count": null,
   "source": [
    "# Be carefull ! Here it will already generate 68MB of data !\r\n",
    "u.run(10_000, freq_dumps=10)"
   ],
   "outputs": [],
   "metadata": {}
  },
  {
   "cell_type": "code",
   "execution_count": null,
   "source": [
    "# Watching the content of output file\r\n",
    "u.f"
   ],
   "outputs": [],
   "metadata": {}
  },
  {
   "cell_type": "code",
   "execution_count": null,
   "source": [
    "# Retrieving trajectory from output file and plot it\r\n",
    "traj = u.f['/run/0/trajectory']\r\n",
    "fig, ax = plt.subplots()\r\n",
    "for i_particle in range(5):\r\n",
    "    ax.plot(traj[i_particle,0], traj[i_particle,1])\r\n",
    "ax.set_aspect('equal')"
   ],
   "outputs": [],
   "metadata": {}
  },
  {
   "cell_type": "markdown",
   "source": [
    "## Show number of particles in specific region of space"
   ],
   "metadata": {}
  },
  {
   "cell_type": "code",
   "execution_count": null,
   "source": [
    "# Since we do not record trajectory we can make a longer simulation\r\n",
    "u.run(1_000_000)"
   ],
   "outputs": [],
   "metadata": {}
  },
  {
   "cell_type": "code",
   "execution_count": null,
   "source": [
    "# In-built topology has regions already defined by defaut.\r\n",
    "# However, you can specify it in 'run' function argument \r\n",
    "top.regions"
   ],
   "outputs": [],
   "metadata": {}
  },
  {
   "cell_type": "code",
   "execution_count": null,
   "source": [
    "# Let's plot it\r\n",
    "left = u.f['/run/1/regions/left']\r\n",
    "plt.plot(left)"
   ],
   "outputs": [],
   "metadata": {}
  }
 ],
 "metadata": {
  "orig_nbformat": 4,
  "language_info": {
   "name": "python",
   "version": "3.8.8",
   "mimetype": "text/x-python",
   "codemirror_mode": {
    "name": "ipython",
    "version": 3
   },
   "pygments_lexer": "ipython3",
   "nbconvert_exporter": "python",
   "file_extension": ".py"
  },
  "kernelspec": {
   "name": "python3",
   "display_name": "Python 3.8.8 64-bit ('base': conda)"
  },
  "interpreter": {
   "hash": "d4ce2f0b9c719736e7f661a13fe0b346d5bd093966a3397b765b95efddff6c19"
  }
 },
 "nbformat": 4,
 "nbformat_minor": 2
}