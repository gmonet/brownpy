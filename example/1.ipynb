{
 "cells": [
  {
   "cell_type": "code",
   "execution_count": 1,
   "source": [
    "from brownpy.gpu_sim import Universe\r\n",
    "import brownpy.topology as Top\r\n",
    "import matplotlib.pyplot as plt\r\n",
    "import h5py\r\n",
    "import cupy as cp\r\n",
    "import numpy as np\r\n",
    "from tqdm.auto import tqdm\r\n",
    "plt.style.use('dark_background')"
   ],
   "outputs": [],
   "metadata": {}
  },
  {
   "cell_type": "code",
   "execution_count": 2,
   "source": [
    "dt = int(1E6) #fs (1ns) - time steps\r\n",
    "D = 1.5E-4 # A²/fs  (1.5E-9 m²/s) - Diffusion coefficient\r\n",
    "\r\n",
    "# Geometry\r\n",
    "L = 1E3 # A (100nm) - channel length\r\n",
    "h = 1E2 # A (10nm)  - channel height\r\n",
    "R = 1E4 # A (1um) - reservoir size\r\n",
    "\r\n",
    "N= 4*1024"
   ],
   "outputs": [],
   "metadata": {}
  },
  {
   "cell_type": "code",
   "execution_count": 7,
   "source": [
    "from numba import cuda "
   ],
   "outputs": [],
   "metadata": {}
  },
  {
   "cell_type": "code",
   "execution_count": 11,
   "source": [
    "from io import StringIO \r\n",
    "import sys\r\n",
    "\r\n",
    "class Capturing(list):\r\n",
    "    def __enter__(self):\r\n",
    "        self._stdout = sys.stdout\r\n",
    "        sys.stdout = self._stringio = StringIO()\r\n",
    "        return self\r\n",
    "    def __exit__(self, *args):\r\n",
    "        self.extend(self._stringio.getvalue().splitlines())\r\n",
    "        del self._stringio    # free up some memory\r\n",
    "        sys.stdout = self._stdout"
   ],
   "outputs": [],
   "metadata": {}
  },
  {
   "cell_type": "code",
   "execution_count": 14,
   "source": [
    "import platform\r\n",
    "platform.processor()"
   ],
   "outputs": [
    {
     "output_type": "execute_result",
     "data": {
      "text/plain": [
       "'Intel64 Family 6 Model 142 Stepping 11, GenuineIntel'"
      ]
     },
     "metadata": {},
     "execution_count": 14
    }
   ],
   "metadata": {}
  },
  {
   "cell_type": "code",
   "execution_count": 17,
   "source": [
    "import cpuinfo\r\n",
    "cpuinfo.get_cpu_info()['brand']"
   ],
   "outputs": [
    {
     "output_type": "error",
     "ename": "KeyError",
     "evalue": "'brand'",
     "traceback": [
      "\u001b[1;31m---------------------------------------------------------------------------\u001b[0m",
      "\u001b[1;31mKeyError\u001b[0m                                  Traceback (most recent call last)",
      "\u001b[1;32m<ipython-input-17-c6151b531827>\u001b[0m in \u001b[0;36m<module>\u001b[1;34m\u001b[0m\n\u001b[0;32m      1\u001b[0m \u001b[1;32mimport\u001b[0m \u001b[0mcpuinfo\u001b[0m\u001b[1;33m\u001b[0m\u001b[1;33m\u001b[0m\u001b[0m\n\u001b[1;32m----> 2\u001b[1;33m \u001b[0mcpuinfo\u001b[0m\u001b[1;33m.\u001b[0m\u001b[0mget_cpu_info\u001b[0m\u001b[1;33m(\u001b[0m\u001b[1;33m)\u001b[0m\u001b[1;33m[\u001b[0m\u001b[1;34m'brand'\u001b[0m\u001b[1;33m]\u001b[0m\u001b[1;33m\u001b[0m\u001b[1;33m\u001b[0m\u001b[0m\n\u001b[0m",
      "\u001b[1;31mKeyError\u001b[0m: 'brand'"
     ]
    }
   ],
   "metadata": {}
  },
  {
   "cell_type": "code",
   "execution_count": 21,
   "source": [
    "cpuinfo.get_cpu_info()['count']"
   ],
   "outputs": [
    {
     "output_type": "execute_result",
     "data": {
      "text/plain": [
       "8"
      ]
     },
     "metadata": {},
     "execution_count": 21
    }
   ],
   "metadata": {}
  },
  {
   "cell_type": "code",
   "execution_count": 19,
   "source": [
    "cpuinfo.get_cpu_info()['brand_raw']"
   ],
   "outputs": [
    {
     "output_type": "execute_result",
     "data": {
      "text/plain": [
       "'Intel(R) Core(TM) i7-8565U CPU @ 1.80GHz'"
      ]
     },
     "metadata": {},
     "execution_count": 19
    }
   ],
   "metadata": {}
  },
  {
   "cell_type": "code",
   "execution_count": 13,
   "source": [
    "output"
   ],
   "outputs": [
    {
     "output_type": "execute_result",
     "data": {
      "text/plain": [
       "['Found 1 CUDA devices',\n",
       " \"id 0    b'NVIDIA GeForce GTX 1050 Ti with Max-Q Design'                              [SUPPORTED]\",\n",
       " '                      compute capability: 6.1',\n",
       " '                           pci device id: 0',\n",
       " '                              pci bus id: 2',\n",
       " 'Summary:',\n",
       " '\\t1/1 devices are supported']"
      ]
     },
     "metadata": {},
     "execution_count": 13
    }
   ],
   "metadata": {}
  },
  {
   "cell_type": "code",
   "execution_count": null,
   "source": [],
   "outputs": [],
   "metadata": {}
  },
  {
   "cell_type": "code",
   "execution_count": 10,
   "source": [
    "print_to_string(cuda.detect())"
   ],
   "outputs": [
    {
     "output_type": "stream",
     "name": "stdout",
     "text": [
      "Found 1 CUDA devices\n",
      "id 0    b'NVIDIA GeForce GTX 1050 Ti with Max-Q Design'                              [SUPPORTED]\n",
      "                      compute capability: 6.1\n",
      "                           pci device id: 0\n",
      "                              pci bus id: 2\n",
      "Summary:\n",
      "\t1/1 devices are supported\n"
     ]
    },
    {
     "output_type": "execute_result",
     "data": {
      "text/plain": [
       "'True\\n'"
      ]
     },
     "metadata": {},
     "execution_count": 10
    }
   ],
   "metadata": {}
  },
  {
   "cell_type": "code",
   "execution_count": 3,
   "source": [
    "top = Top.ElasticChannel1(L=L, h=h, R=R)\r\n",
    "u = Universe(N=N, top=top, D=D, dt=dt,\r\n",
    "             output_path='simu')"
   ],
   "outputs": [],
   "metadata": {}
  },
  {
   "cell_type": "code",
   "execution_count": 4,
   "source": [
    "u.run(1_000_000, freq_dumps=100);"
   ],
   "outputs": [
    {
     "output_type": "stream",
     "name": "stderr",
     "text": [
      "100%|██████████| 1000000/1000000 [00:09<00:00, 110776.95it/s, total=1 ms]"
     ]
    },
    {
     "output_type": "stream",
     "name": "stdout",
     "text": [
      "With 4096 particles\n",
      "------------------------------------------\n",
      "GPU time per step and per particles:\n",
      "Allocation: 12.8 fs\n",
      "Engine: 1.25 ns\n",
      "Transfert to RAM: 157 ps\n",
      "Total: 1.4 ns\n",
      "------------------------------------------\n",
      "CPU time per step and per particles:\n",
      "Total: 2.21 ns\n",
      "------------------------------------------\n",
      "For a timestep of 1 ns\n",
      "To simulate the trajectory of 1 particle during 1 s, we need 2.21  s\n"
     ]
    },
    {
     "output_type": "stream",
     "name": "stderr",
     "text": [
      "\n"
     ]
    }
   ],
   "metadata": {}
  },
  {
   "cell_type": "code",
   "execution_count": 5,
   "source": [
    "u.run(10_000_000);"
   ],
   "outputs": [
    {
     "output_type": "stream",
     "name": "stderr",
     "text": [
      "100%|██████████| 10000000/10000000 [00:20<00:00, 496235.00it/s, total=10 ms]"
     ]
    },
    {
     "output_type": "stream",
     "name": "stdout",
     "text": [
      "With 4096 particles\n",
      "------------------------------------------\n",
      "GPU time per step and per particles:\n",
      "Allocation: 9.69 fs\n",
      "Engine: 483 ps\n",
      "Transfert to RAM: 2.32 ps\n",
      "Total: 485 ps\n",
      "------------------------------------------\n",
      "CPU time per step and per particles:\n",
      "Total: 492 ps\n",
      "------------------------------------------\n",
      "For a timestep of 1 ns\n",
      "To simulate the trajectory of 1 particle during 1 s, we need 492 ms\n"
     ]
    },
    {
     "output_type": "stream",
     "name": "stderr",
     "text": [
      "\n"
     ]
    }
   ],
   "metadata": {}
  },
  {
   "cell_type": "code",
   "execution_count": null,
   "source": [
    "top = Top.SpeedElasticChannel1_dev(L=L, h=h, R=R)\r\n",
    "u = Universe(N=N, top=top, D=D, dt=dt,\r\n",
    "             output_path='simu', threadsperblock=128)"
   ],
   "outputs": [],
   "metadata": {}
  },
  {
   "cell_type": "code",
   "execution_count": null,
   "source": [
    "u.run(1_000); #warmup\r\n",
    "u.run(10_000_000);"
   ],
   "outputs": [],
   "metadata": {}
  },
  {
   "cell_type": "code",
   "execution_count": 5,
   "source": [
    "trajectory = u[0]['trajectory']"
   ],
   "outputs": [
    {
     "output_type": "stream",
     "name": "stdout",
     "text": [
      "Reading trajectory ...\n",
      "... Done\n",
      "Reading 0 ...\n",
      "... Done\n"
     ]
    }
   ],
   "metadata": {}
  },
  {
   "cell_type": "code",
   "execution_count": 7,
   "source": [
    "trajectory"
   ],
   "outputs": [
    {
     "output_type": "execute_result",
     "data": {
      "text/plain": [
       "array([[[0., 0., 0., ..., 0., 0., 0.],\n",
       "        [0., 0., 0., ..., 0., 0., 0.]],\n",
       "\n",
       "       [[0., 0., 0., ..., 0., 0., 0.],\n",
       "        [0., 0., 0., ..., 0., 0., 0.]],\n",
       "\n",
       "       [[0., 0., 0., ..., 0., 0., 0.],\n",
       "        [0., 0., 0., ..., 0., 0., 0.]],\n",
       "\n",
       "       ...,\n",
       "\n",
       "       [[0., 0., 0., ..., 0., 0., 0.],\n",
       "        [0., 0., 0., ..., 0., 0., 0.]],\n",
       "\n",
       "       [[0., 0., 0., ..., 0., 0., 0.],\n",
       "        [0., 0., 0., ..., 0., 0., 0.]],\n",
       "\n",
       "       [[0., 0., 0., ..., 0., 0., 0.],\n",
       "        [0., 0., 0., ..., 0., 0., 0.]]], dtype=float32)"
      ]
     },
     "metadata": {},
     "execution_count": 7
    }
   ],
   "metadata": {}
  },
  {
   "cell_type": "code",
   "execution_count": null,
   "source": [
    "# Get particles that go inside the channel\r\n",
    "# i_particle=1107\r\n",
    "fig, ax = plt.subplots(figsize=(13,13))\r\n",
    "# ax.plot(trajectory[i_particle,0,:], trajectory[i_particle,1,:])\r\n",
    "temp = np.argsort(np.sum(np.abs(trajectory[:,0,:-2])<L/2, axis=1))[::-1]\r\n",
    "temp = np.argsort(np.sum(((trajectory[:,0,:-2])<-L/2), axis=1, dtype=np.int64)*np.sum(((trajectory[:,0,:-2])>L/2), axis=1, dtype=np.int64))[::-1]\r\n",
    "i_particle = temp[0]\r\n",
    "ax.scatter(trajectory[i_particle,0,:], trajectory[i_particle,1,:], \r\n",
    "           c=np.arange(trajectory.shape[2]), marker='.', cmap='jet', s=0.1)\r\n",
    "# for i_particle in temp[:1]:\r\n",
    "#         ax.plot(trajectory[i_particle,0,:], trajectory[i_particle,1,:])\r\n",
    "\r\n",
    "# for i_particle in range(trajectory.shape[0]):\r\n",
    "#         ax.plot(trajectory[i_particle,0,:2], trajectory[i_particle,1,:2])\r\n",
    "top.plot(ax, border_kwargs={'c':'k'})\r\n",
    "# ax.set_xlabel('x [Å]')\r\n",
    "# ax.set_ylabel('y [Å]')\r\n",
    "ax.set_axis_off()\r\n",
    "ax.set_aspect('equal')\r\n",
    "# ax.set_xlim(-2000,2000)\r\n",
    "# ax.set_ylim(-2000,2000)\r\n"
   ],
   "outputs": [],
   "metadata": {}
  },
  {
   "cell_type": "code",
   "execution_count": null,
   "source": [
    "left = u[1]['left']\r\n",
    "plt.plot(left)"
   ],
   "outputs": [],
   "metadata": {}
  },
  {
   "cell_type": "code",
   "execution_count": null,
   "source": [
    "fig.savefig('trajectory.png', dpi=300)"
   ],
   "outputs": [],
   "metadata": {}
  },
  {
   "cell_type": "code",
   "execution_count": null,
   "source": [
    "u.run(1_000_000_000);"
   ],
   "outputs": [],
   "metadata": {}
  },
  {
   "cell_type": "code",
   "execution_count": null,
   "source": [
    "u.run(1_000_000, freq_dumps=10);"
   ],
   "outputs": [],
   "metadata": {}
  },
  {
   "cell_type": "code",
   "execution_count": null,
   "source": [
    "u = Universe.from_hdf5('simu_3.hdf5')"
   ],
   "outputs": [],
   "metadata": {}
  },
  {
   "cell_type": "code",
   "execution_count": null,
   "source": [
    "data = u[0]"
   ],
   "outputs": [],
   "metadata": {}
  },
  {
   "cell_type": "code",
   "execution_count": null,
   "source": [
    "trajectory = data['trajectory']"
   ],
   "outputs": [],
   "metadata": {}
  },
  {
   "cell_type": "code",
   "execution_count": null,
   "source": [
    "mempool = cp.get_default_memory_pool()\r\n",
    "pinned_mempool = cp.get_default_pinned_memory_pool()\r\n",
    "binx = np.concatenate((\r\n",
    "        np.arange(-R-L/2,-L,100),\r\n",
    "        np.arange(-L,-L/2,50),\r\n",
    "        np.arange(-L/2,+L/2,20),\r\n",
    "        np.arange(+L/2,+L,50),\r\n",
    "        np.arange(+L,+R+L/2+1,100),\r\n",
    "))\r\n",
    "\r\n",
    "binz = np.concatenate((\r\n",
    "        np.arange(-R,-L,100),\r\n",
    "        np.arange(-L,-h/2,50),\r\n",
    "        np.arange(-h/2,+h/2,20),\r\n",
    "        np.arange(+h/2,+L,50),\r\n",
    "        np.arange(+L,+R+1,100),\r\n",
    "))\r\n",
    "\r\n",
    "d_binx = cp.asarray(binx)\r\n",
    "d_binz = cp.asarray(binz)\r\n",
    "i=0\r\n",
    "\r\n",
    "x = cp.asarray(trajectory[:,0,i::10].flatten())\r\n",
    "z = cp.asarray(trajectory[:,1,i::10].flatten())\r\n",
    "d_hist, ex, ez = cp.histogram2d(x, z, bins = (d_binx, d_binz), density=True)\r\n",
    "for i in range(1, 10):\r\n",
    "        x = cp.asarray(trajectory[:,0,i::10].flatten())\r\n",
    "        z = cp.asarray(trajectory[:,1,i::10].flatten())\r\n",
    "        d_hist2, d_ex, d_ez = cp.histogram2d(x, z, bins = (d_binx, d_binz), density=True)\r\n",
    "        d_hist += d_hist2\r\n",
    "hist=d_hist.get().T\r\n",
    "ex, ez = d_ex.get(), d_ez.get()\r\n",
    "del d_binx, d_binz\r\n",
    "del x, z\r\n",
    "del d_ex, d_ez\r\n",
    "del d_hist, d_hist2\r\n",
    "mempool.free_all_blocks()\r\n",
    "pinned_mempool.free_all_blocks()"
   ],
   "outputs": [],
   "metadata": {}
  },
  {
   "cell_type": "code",
   "execution_count": null,
   "source": [],
   "outputs": [],
   "metadata": {}
  },
  {
   "cell_type": "code",
   "execution_count": null,
   "source": [
    "mean, std = np.mean(hist[hist>0]), np.std(hist[hist>0])"
   ],
   "outputs": [],
   "metadata": {}
  },
  {
   "cell_type": "code",
   "execution_count": null,
   "source": [
    "mean, std = np.mean(hist[hist>0]), np.std(hist[hist>0])\r\n",
    "vmin, vmax = mean-1*std, mean+1*std\r\n",
    "# https://matplotlib.org/stable/gallery/axes_grid1/inset_locator_demo.html\r\n",
    "from mpl_toolkits.axes_grid1.inset_locator import inset_axes\r\n",
    "# https://numpy.org/doc/stable/reference/generated/numpy.histogram2d.html\r\n",
    "fig, ax = plt.subplots(figsize=(13,13))\r\n",
    "X, Y = np.meshgrid(ex, ez)\r\n",
    "ax.pcolormesh(X, Y, hist, cmap='jet', vmin=vmin, vmax=vmax)\r\n",
    "ax.set_aspect('equal')\r\n",
    "axins = inset_axes(ax, width=\"30%\", height=\"30%\", loc=1)\r\n",
    "axins.pcolormesh(X, Y, hist, cmap='jet', vmin=vmin, vmax=vmax)\r\n",
    "axins.set_xlim(-1000,1000)\r\n",
    "axins.set_ylim(-1000,1000)"
   ],
   "outputs": [],
   "metadata": {}
  },
  {
   "cell_type": "code",
   "execution_count": null,
   "source": [
    "from matplotlib.image import NonUniformImage\r\n",
    "fig = plt.figure(figsize=(13,13))\r\n",
    "ax = fig.add_subplot(111, title='NonUniformImage: interpolated',\r\n",
    "        aspect='equal', xlim=ex[[0, -1]], ylim=ez[[0, -1]])\r\n",
    "im = NonUniformImage(ax, interpolation='bilinear', extent=[ex[0], ex[-1], ez[0], ez[-1]], cmap='jet')\r\n",
    "xcenters = (ex[:-1] + ex[1:]) / 2\r\n",
    "ycenters = (ez[:-1] + ez[1:]) / 2\r\n",
    "im.set_data(xcenters, ycenters, hist)\r\n",
    "ax.images.append(im)\r\n",
    "\r\n",
    "ax.set_aspect('equal')\r\n",
    "# ax.set_xlim(-2000,2000)\r\n",
    "# ax.set_ylim(-2000,2000)"
   ],
   "outputs": [],
   "metadata": {}
  },
  {
   "cell_type": "code",
   "execution_count": null,
   "source": [
    "# Get particles that go inside the channel\r\n",
    "# i_particle=1107\r\n",
    "fig, ax = plt.subplots(figsize=(13,13))\r\n",
    "# ax.plot(trajectory[i_particle,0,:], trajectory[i_particle,1,:])\r\n",
    "temp = np.argsort(np.sum(np.abs(trajectory[:,0,:-2])<L/2, axis=1))[::-1]\r\n",
    "i_particle = temp[0]\r\n",
    "ax.scatter(trajectory[i_particle,0,:], trajectory[i_particle,1,:], \r\n",
    "           c=np.arange(trajectory.shape[2]), marker='.', cmap='jet', s=0.1)\r\n",
    "# for i_particle in temp[:1]:\r\n",
    "#         ax.plot(trajectory[i_particle,0,:], trajectory[i_particle,1,:])\r\n",
    "\r\n",
    "# for i_particle in range(trajectory.shape[0]):\r\n",
    "#         ax.plot(trajectory[i_particle,0,:2], trajectory[i_particle,1,:2])\r\n",
    "ax.plot(R*np.cos(np.linspace(np.pi/2, 3*np.pi/2, 100))-L/2,\r\n",
    "        R*np.sin(np.linspace(np.pi/2, 3*np.pi/2, 100)),c='r')\r\n",
    "ax.plot(-R*np.cos(np.linspace(np.pi/2, 3*np.pi/2, 100))+L/2,\r\n",
    "        R*np.sin(np.linspace(np.pi/2, 3*np.pi/2, 100)),c='r')\r\n",
    "ax.plot([-L/2, -L/2], [R, h/2], c='r')\r\n",
    "ax.plot([+L/2, +L/2], [R, h/2], c='r')\r\n",
    "ax.plot([-L/2, +L/2], [h/2, h/2], c='r')\r\n",
    "ax.plot([-L/2, +L/2], [-h/2, -h/2], c='r')\r\n",
    "ax.plot([-L/2, -L/2], [-R, -h/2], c='r')\r\n",
    "ax.plot([+L/2, +L/2], [-R, -h/2], c='r')\r\n",
    "ax.set_xlabel('x [Å]')\r\n",
    "ax.set_ylabel('y [Å]')\r\n",
    "ax.set_aspect('equal')\r\n",
    "# ax.set_xlim(-2000,2000)\r\n",
    "# ax.set_ylim(-2000,2000)\r\n"
   ],
   "outputs": [],
   "metadata": {}
  },
  {
   "cell_type": "code",
   "execution_count": null,
   "source": [
    "u.run2(1_000_000);"
   ],
   "outputs": [],
   "metadata": {}
  },
  {
   "cell_type": "code",
   "execution_count": null,
   "source": [
    "import cupy as cp\r\n",
    "def PSD_gpu(x, dt):\r\n",
    "    x_gpu = cp.asarray(x)\r\n",
    "    psd = (cp.abs(cp.fft.rfft(x_gpu))**2).get()\r\n",
    "    freqs = (cp.fft.rfftfreq(x.size, dt)).get()\r\n",
    "    del x_gpu\r\n",
    "    cp._default_memory_pool.free_all_blocks()\r\n",
    "    return psd, freqs\r\n",
    "\r\n",
    "def PSD_gpu_binned(x, dt, bins):\r\n",
    "    x_gpu = cp.asarray(x)\r\n",
    "    psd_gpu = cp.abs(cp.fft.rfft(x_gpu))**2\r\n",
    "    freqs_gpu = cp.fft.rfftfreq(x.size, dt)\r\n",
    "\r\n",
    "    psd_binned_gpu, freqs_binned_gpu = cp.histogram(cp.log(freqs_gpu)[1:], \r\n",
    "                                        weights=psd_gpu[1:], bins=bins)\r\n",
    "    N_binned_gpu = cp.histogram(cp.log(freqs_gpu)[1:], bins=bins)[0]\r\n",
    "    psd_averaged = (psd_binned_gpu/N_binned_gpu).get()\r\n",
    "    freqs = ((freqs_binned_gpu[1:]+freqs_binned_gpu[:-1])/2.).get()\r\n",
    "    \r\n",
    "    del x_gpu, psd_gpu, freqs_gpu, psd_binned_gpu, freqs_binned_gpu, N_binned_gpu\r\n",
    "    cp._default_memory_pool.free_all_blocks()\r\n",
    "    return psd_averaged, np.exp(freqs)"
   ],
   "outputs": [],
   "metadata": {}
  },
  {
   "cell_type": "code",
   "execution_count": null,
   "source": [
    "data = u[0]"
   ],
   "outputs": [],
   "metadata": {}
  },
  {
   "cell_type": "code",
   "execution_count": null,
   "source": [
    "region_0 = data['region_0']\r\n",
    "fig, ax = plt.subplots()\r\n",
    "psd, freqs = PSD_gpu(region_0[::10], dt*10)\r\n",
    "ax.loglog(freqs*1E15, psd)\r\n",
    "psd_bin, freqs_bin = PSD_gpu_binned(region_0[::10], dt*10, bins=100)\r\n",
    "ax.loglog(freqs_bin*1E15, psd_bin)\r\n",
    "ax.set_xlabel('Frequency [Hz]')\r\n",
    "fig.tight_layout()"
   ],
   "outputs": [],
   "metadata": {}
  },
  {
   "cell_type": "code",
   "execution_count": null,
   "source": [
    "101%100"
   ],
   "outputs": [],
   "metadata": {}
  },
  {
   "cell_type": "code",
   "execution_count": null,
   "source": [
    "a=150\r\n",
    "a%=100\r\n",
    "a"
   ],
   "outputs": [],
   "metadata": {}
  },
  {
   "cell_type": "code",
   "execution_count": null,
   "source": [],
   "outputs": [],
   "metadata": {}
  }
 ],
 "metadata": {
  "orig_nbformat": 4,
  "language_info": {
   "name": "python",
   "version": "3.8.8",
   "mimetype": "text/x-python",
   "codemirror_mode": {
    "name": "ipython",
    "version": 3
   },
   "pygments_lexer": "ipython3",
   "nbconvert_exporter": "python",
   "file_extension": ".py"
  },
  "kernelspec": {
   "name": "python3",
   "display_name": "Python 3.8.8 64-bit ('base': conda)"
  },
  "interpreter": {
   "hash": "d4ce2f0b9c719736e7f661a13fe0b346d5bd093966a3397b765b95efddff6c19"
  }
 },
 "nbformat": 4,
 "nbformat_minor": 2
}