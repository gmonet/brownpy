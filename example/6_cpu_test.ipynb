{
 "cells": [
  {
   "cell_type": "code",
   "execution_count": 17,
   "source": [
    "import time\r\n",
    "import numpy as np\r\n",
    "import numba as nb\r\n",
    "from timeit import timeit"
   ],
   "outputs": [],
   "metadata": {}
  },
  {
   "cell_type": "code",
   "execution_count": 37,
   "source": [
    "@nb.jit(nopython=True, parallel=True)\r\n",
    "def test(Nsteps, out, rng_seeds):\r\n",
    "    for i in nb.prange(out.shape[0]):\r\n",
    "        np.random.seed(rng_seeds[i])\r\n",
    "        for step in range(Nsteps):\r\n",
    "            out[i] += np.random.standard_normal()\r\n",
    "            out[i] += np.random.standard_normal()"
   ],
   "outputs": [],
   "metadata": {}
  },
  {
   "cell_type": "code",
   "execution_count": 38,
   "source": [
    "N_steps = 10_000_000\r\n",
    "N_particles = 10"
   ],
   "outputs": [],
   "metadata": {}
  },
  {
   "cell_type": "code",
   "execution_count": 43,
   "source": [
    "seed=1\r\n",
    "np.random.seed(seed)\r\n",
    "rng_seeds = np.random.randint(np.iinfo(np.uint32).max, size=N_particles, dtype=np.uint32)\r\n",
    "out = np.zeros(N_particles)\r\n",
    "test(N_steps, out, rng_seeds) # warmup\r\n",
    "N_loops = 5\r\n",
    "t0 = time.time_ns()\r\n",
    "for _ in range(N_loops):\r\n",
    "    rng_seeds = np.random.randint(np.iinfo(np.uint32).max, size=N_particles, dtype=np.uint32)\r\n",
    "    test(N_steps, out, rng_seeds)\r\n",
    "delta_t = (time.time_ns() - t0)/N_loops\r\n",
    "print(f'{delta_t/N_steps/N_particles:.2f} ns/dt/p')\r\n",
    "out[0]"
   ],
   "outputs": [
    {
     "output_type": "stream",
     "name": "stdout",
     "text": [
      "22.28 ns/dt/p\n"
     ]
    },
    {
     "output_type": "execute_result",
     "data": {
      "text/plain": [
       "7771.671936225897"
      ]
     },
     "metadata": {},
     "execution_count": 43
    }
   ],
   "metadata": {}
  },
  {
   "cell_type": "code",
   "execution_count": 41,
   "source": [
    "out[0]"
   ],
   "outputs": [
    {
     "output_type": "execute_result",
     "data": {
      "text/plain": [
       "5608.852327314961"
      ]
     },
     "metadata": {},
     "execution_count": 41
    }
   ],
   "metadata": {}
  },
  {
   "cell_type": "code",
   "execution_count": 46,
   "source": [
    "np.random.SeedSequence().entropy"
   ],
   "outputs": [
    {
     "output_type": "execute_result",
     "data": {
      "text/plain": [
       "66432083429865109102651919992550842517"
      ]
     },
     "metadata": {},
     "execution_count": 46
    }
   ],
   "metadata": {}
  },
  {
   "cell_type": "code",
   "execution_count": 52,
   "source": [
    "np.random.SeedSequence().entropy%(2**32-1)"
   ],
   "outputs": [
    {
     "output_type": "execute_result",
     "data": {
      "text/plain": [
       "2714689720"
      ]
     },
     "metadata": {},
     "execution_count": 52
    }
   ],
   "metadata": {}
  },
  {
   "cell_type": "code",
   "execution_count": 55,
   "source": [
    "seed = np.random.SeedSequence().entropy%(2**32-1)\r\n",
    "np.random.seed(seed)\r\n",
    "np.random.uniform()"
   ],
   "outputs": [
    {
     "output_type": "execute_result",
     "data": {
      "text/plain": [
       "0.526017278631049"
      ]
     },
     "metadata": {},
     "execution_count": 55
    }
   ],
   "metadata": {}
  },
  {
   "cell_type": "code",
   "execution_count": 52,
   "source": [
    "out = np.zeros(N_particles, dtype='float32')\r\n",
    "test_f32(N_steps, out) # warmup\r\n",
    "N_loops = 5\r\n",
    "t0 = time.time_ns()\r\n",
    "for _ in range(N_loops):\r\n",
    "    test_f32(N_steps, out)\r\n",
    "delta_t = (time.time_ns() - t0)/N_loops\r\n",
    "print(f'{delta_t/N_steps/N_particles*N_THREADS:.2f} ns/dt/p/cores')"
   ],
   "outputs": [
    {
     "output_type": "stream",
     "name": "stdout",
     "text": [
      "61.34 ns/dt/p/cores\n"
     ]
    }
   ],
   "metadata": {}
  },
  {
   "cell_type": "code",
   "execution_count": null,
   "source": [
    "randomgen.generator.standard_normal()"
   ],
   "outputs": [],
   "metadata": {}
  },
  {
   "cell_type": "code",
   "execution_count": 52,
   "source": [
    "test.parallel_diagnostics(level=1)"
   ],
   "outputs": [
    {
     "output_type": "stream",
     "name": "stdout",
     "text": [
      " \n",
      "================================================================================\n",
      " Parallel Accelerator Optimizing:  Function test, <ipython-\n",
      "input-42-b98cb058667e> (1)  \n",
      "================================================================================\n",
      "\n",
      "\n",
      "Parallel loop listing for  Function test, <ipython-input-42-b98cb058667e> (1) \n",
      "------------------------------------------------|loop #ID\n",
      "@nb.jit(nopython=True, parallel=True)           | \n",
      "def test(Nsteps, out):                          | \n",
      "    for i in nb.prange(out.shape[0]):-----------| #4\n",
      "        np.random.seed(i)                       | \n",
      "        for step in range(Nsteps):              | \n",
      "            out[i] += np.random.uniform(0,1)    | \n",
      "------------------------------ After Optimisation ------------------------------\n",
      "Parallel structure is already optimal.\n",
      "--------------------------------------------------------------------------------\n",
      "--------------------------------------------------------------------------------\n",
      " \n"
     ]
    }
   ],
   "metadata": {}
  },
  {
   "cell_type": "code",
   "execution_count": 57,
   "source": [
    "import randomgen"
   ],
   "outputs": [
    {
     "output_type": "error",
     "ename": "ModuleNotFoundError",
     "evalue": "No module named 'randomgen'",
     "traceback": [
      "\u001b[1;31m---------------------------------------------------------------------------\u001b[0m",
      "\u001b[1;31mModuleNotFoundError\u001b[0m                       Traceback (most recent call last)",
      "\u001b[1;32m<ipython-input-57-5a0683341995>\u001b[0m in \u001b[0;36m<module>\u001b[1;34m\u001b[0m\n\u001b[1;32m----> 1\u001b[1;33m \u001b[1;32mimport\u001b[0m \u001b[0mrandomgen\u001b[0m\u001b[1;33m\u001b[0m\u001b[1;33m\u001b[0m\u001b[0m\n\u001b[0m",
      "\u001b[1;31mModuleNotFoundError\u001b[0m: No module named 'randomgen'"
     ]
    }
   ],
   "metadata": {}
  },
  {
   "cell_type": "code",
   "execution_count": 54,
   "source": [
    "from numba import cuda"
   ],
   "outputs": [],
   "metadata": {}
  },
  {
   "cell_type": "code",
   "execution_count": 55,
   "source": [
    "cuda.detect()"
   ],
   "outputs": [
    {
     "output_type": "stream",
     "name": "stdout",
     "text": [
      "Found 1 CUDA devices\n",
      "id 0    b'NVIDIA GeForce GTX 1050 Ti with Max-Q Design'                              [SUPPORTED]\n",
      "                      compute capability: 6.1\n",
      "                           pci device id: 0\n",
      "                              pci bus id: 2\n",
      "Summary:\n",
      "\t1/1 devices are supported\n"
     ]
    },
    {
     "output_type": "execute_result",
     "data": {
      "text/plain": [
       "True"
      ]
     },
     "metadata": {},
     "execution_count": 55
    }
   ],
   "metadata": {}
  },
  {
   "cell_type": "code",
   "execution_count": 56,
   "source": [
    "cuda.is_available()"
   ],
   "outputs": [
    {
     "output_type": "execute_result",
     "data": {
      "text/plain": [
       "True"
      ]
     },
     "metadata": {},
     "execution_count": 56
    }
   ],
   "metadata": {}
  },
  {
   "cell_type": "code",
   "execution_count": 1,
   "source": [
    "from brownpy import gpu_sim\r\n",
    "from brownpy.gpu_sim import Universe\r\n",
    "import brownpy.topology as Top\r\n",
    "from brownpy.utils import prefix, unwrap\r\n",
    "import matplotlib.pyplot as plt\r\n",
    "# https://matplotlib.org/stable/gallery/axes_grid1/inset_locator_demo.html\r\n",
    "from mpl_toolkits.axes_grid1.inset_locator import inset_axes\r\n",
    "import h5py\r\n",
    "import numpy as np\r\n",
    "from threading import Thread\r\n",
    "from pathlib import Path\r\n",
    "import time\r\n",
    "import pandas as pd\r\n",
    "from tqdm.notebook import tqdm\r\n",
    "plt.style.use('default')\r\n",
    "import cupy as cp"
   ],
   "outputs": [],
   "metadata": {}
  },
  {
   "cell_type": "code",
   "execution_count": 18,
   "source": [
    "seed = 1\r\n",
    "# Diffusion coefficient\r\n",
    "D = 1.5E-4 # A²/fs  (1.5E-9 m²/s) - Diffusion coefficient\r\n",
    "\r\n",
    "\"\"\"\r\n",
    "┃         ┃   ┃         ┃      ↑  \r\n",
    "┃         ┃   ┃         ┃      │\r\n",
    "┃         ┗━━━┛         ┃      │\r\n",
    "┃                       ┃ ↕ Hc │ 2 H\r\n",
    "┃         ┏━━━┓         ┃      │\r\n",
    "┃         ┃   ┃         ┃      │\r\n",
    "┃         ┃   ┃         ┃      ↓\r\n",
    " ←-------→ ←-→ ←-------→\r\n",
    "     L      Lc     L\r\n",
    "\"\"\"\r\n",
    "# Conversion into my notation\r\n",
    "Hc = 1E2 # A (10nm) - Channel width\r\n",
    "L = 250*Hc # Channel depth\r\n",
    "H_factor = 1\r\n",
    "H = H_factor*Hc # Distance between channel\r\n",
    "ar_factor = 100\r\n",
    "Lc = ar_factor*Hc # Channel length\r\n",
    "\r\n",
    "# Timestep \r\n",
    "dt = int(0.05*Hc**2/D)\r\n",
    "N = 2*1024\r\n",
    "print(f'dt = {dt:.2e} fs = {prefix(dt*1E-15)}s')\r\n",
    "\r\n",
    "Nsteps = int(1.5*1E6/0.05) \r\n",
    "print(f\"Number of steps : {Nsteps:.2e} = {prefix(dt*Nsteps*1E-15)}s\")\r\n",
    "\r\n",
    "\r\n",
    "top = Top.ElasticChannel2(Hc=Hc, Lc=Lc, \r\n",
    "                          H=H, L=L)\r\n",
    "u=Universe(N=N, top=top, D=D, dt=dt,\r\n",
    "           output_path=f'./4/channel/{H_factor}_{ar_factor}',\r\n",
    "           overwrite=True, seed=seed)"
   ],
   "outputs": [
    {
     "output_type": "stream",
     "name": "stdout",
     "text": [
      "dt = 3.33e+06 fs = 3.33 ns\n",
      "Number of steps : 3.00e+07 = 100 ms\n"
     ]
    }
   ],
   "metadata": {}
  },
  {
   "cell_type": "code",
   "execution_count": 19,
   "source": [
    "u.pos[0]"
   ],
   "outputs": [
    {
     "output_type": "execute_result",
     "data": {
      "text/plain": [
       "array([5591.081  ,   90.09274], dtype=float32)"
      ]
     },
     "metadata": {},
     "execution_count": 19
    }
   ],
   "metadata": {}
  },
  {
   "cell_type": "code",
   "execution_count": 20,
   "source": [
    "#GPU\r\n",
    "u.run(Nsteps//100, target='cpu', seed=seed)"
   ],
   "outputs": [
    {
     "output_type": "stream",
     "name": "stderr",
     "text": [
      "100%|██████████| 300000/300000 [00:18<00:00, 15982.88it/s, total=1e+03 µs]"
     ]
    },
    {
     "output_type": "stream",
     "name": "stdout",
     "text": [
      "With 2048 particles\n",
      "------------------------------------------\n",
      "CPU time per step and per particles:\n",
      "Total: 30.6 ns\n",
      "------------------------------------------\n",
      "For a timestep of 3.33 ns\n",
      "To simulate the trajectory of 1 particle during 1 s, we need 9.17  s\n"
     ]
    },
    {
     "output_type": "stream",
     "name": "stderr",
     "text": [
      "\n"
     ]
    }
   ],
   "metadata": {}
  },
  {
   "cell_type": "code",
   "execution_count": 21,
   "source": [
    "u.pos[0]"
   ],
   "outputs": [
    {
     "output_type": "execute_result",
     "data": {
      "text/plain": [
       "array([11408.05    ,    77.026375], dtype=float32)"
      ]
     },
     "metadata": {},
     "execution_count": 21
    }
   ],
   "metadata": {}
  },
  {
   "cell_type": "code",
   "execution_count": 22,
   "source": [
    "u.engine.parallel_diagnostics()"
   ],
   "outputs": [
    {
     "output_type": "stream",
     "name": "stdout",
     "text": [
      " \n",
      "================================================================================\n",
      " Parallel Accelerator Optimizing:  Function \n",
      "Universe._gen_engine.<locals>.engine, \n",
      "c:\\users\\monet\\documents\\job\\2021_postdoc\\code\\brownpy\\brownpy\\gpu_sim.py (402)\n",
      "  \n",
      "================================================================================\n",
      "\n",
      "\n",
      "Parallel loop listing for  Function Universe._gen_engine.<locals>.engine, c:\\users\\monet\\documents\\job\\2021_postdoc\\code\\brownpy\\brownpy\\gpu_sim.py (402) \n",
      "-----------------------------------------------------------------------------------------------------------------------------------|loop #ID\n",
      "      @nb.njit(parallel=True)                                                                                                      | \n",
      "      def engine(r0, t0, N_steps, inside, seeds, trajectory, freq_dumps,                                                           | \n",
      "                _internal_states):                                                                                                 | \n",
      "        \"\"\"Physical engine function compiled in CUDA to simulate pure brownian                                                     | \n",
      "        motion particles.                                                                                                          | \n",
      "                                                                                                                                   | \n",
      "        Args:                                                                                                                      | \n",
      "          r0 (float32[:,2]): Initial position of particles                                                                         | \n",
      "          N_steps (uint64): Number of simulation step                                                                              | \n",
      "          inside (uint32[:,:]): ouput array that will store the number of particles in predefinned regions as function of time     | \n",
      "          rng_states (xoroshiro128p_dtype[:]): array of RNG states                                                                 | \n",
      "          trajectory (float32[:,2,N_dumps]): output trajectory                                                                     | \n",
      "        \"\"\"                                                                                                                        | \n",
      "        dx, dz = nb.float32(0.0), nb.float32(0.0)                                                                                  | \n",
      "        for pos in nb.prange(r0.shape[0]):-----------------------------------------------------------------------------------------| #3\n",
      "          np.random.seed(seeds[pos])                                                                                               | \n",
      "          x0, z0 = r0[pos, 0], r0[pos, 1]                                                                                          | \n",
      "          i_dump = 0                                                                                                               | \n",
      "                                                                                                                                   | \n",
      "          internal_state = np.zeros(1, dtype=nb.uint32)----------------------------------------------------------------------------| #2\n",
      "          for i in range(_internal_states.shape[1]):                                                                               | \n",
      "            internal_state[i] = _internal_states[pos, i]                                                                           | \n",
      "                                                                                                                                   | \n",
      "          for step in range(N_steps):                                                                                              | \n",
      "            dx = scale*np.random.standard_normal()                                                                                 | \n",
      "            dz = scale*np.random.standard_normal()                                                                                 | \n",
      "            x1 = x0 + dx                                                                                                           | \n",
      "            z1 = z0 + dz                                                                                                           | \n",
      "                                                                                                                                   | \n",
      "            x1, z1 = compute_boundary_condition(x0, z0, x1, z1, seeds, internal_state)                                             | \n",
      "            check_region(x1, z1, inside, step, internal_state)                                                                     | \n",
      "                                                                                                                                   | \n",
      "            x0 = x1                                                                                                                | \n",
      "            z0 = z1                                                                                                                | \n",
      "            if do_traj_dump:                                                                                                       | \n",
      "              if (step + 1 + t0)%freq_dumps == 0:                                                                                  | \n",
      "                trajectory[pos, 0, i_dump] = x0                                                                                    | \n",
      "                trajectory[pos, 1, i_dump] = z0                                                                                    | \n",
      "                i_dump += 1                                                                                                        | \n",
      "          r0[pos, 0] = x0                                                                                                          | \n",
      "          r0[pos, 1] = z0                                                                                                          | \n",
      "                                                                                                                                   | \n",
      "          for i in range(_internal_states.shape[1]):                                                                               | \n",
      "            _internal_states[pos, i] = internal_state[i]                                                                           | \n",
      "                                                                                                                                   | \n",
      "        t0 += N_steps                                                                                                              | \n",
      "------------------------------ After Optimisation ------------------------------\n",
      "Parallel region 0:\n",
      "+--3 (parallel)\n",
      "   +--2 (serial)\n",
      "\n",
      "\n",
      " \n",
      "Parallel region 0 (loop #3) had 0 loop(s) fused and 1 loop(s) serialized as part\n",
      " of the larger parallel loop (#3).\n",
      "--------------------------------------------------------------------------------\n",
      "--------------------------------------------------------------------------------\n",
      " \n"
     ]
    }
   ],
   "metadata": {}
  },
  {
   "cell_type": "code",
   "execution_count": 23,
   "source": [
    "u.f"
   ],
   "outputs": [
    {
     "output_type": "execute_result",
     "data": {
      "text/plain": [
       "/date = Created Wed Sep  8 18:49:56 2021\n",
       "/dt = 3333333\n",
       "/dtype = float32\n",
       "/ndim = 2\n",
       "/source = Created with BM_cuda\n",
       "/units = real\n",
       "/version = 0.1.0b\n",
       "/geometry/H = 100.0\n",
       "/geometry/Hc = 100.0\n",
       "/geometry/L = 25000.0\n",
       "/geometry/Lc = 10000.0\n",
       "/geometry/name = ElasticChannel2\n",
       "/geometry/version = 0.0.2\n",
       "/particles/N = 2048\n",
       "/particles/initial_seed = 1\n",
       "/particles/0/D = 0.00015\n",
       "/particles/0/type = 0\n",
       "/particles/initial_pos - float32((2048, 2))\n",
       "/particles/type - uint8((2048,))\n",
       "/run/N_runs = 0\n",
       "/run/0/N_steps = 300000\n",
       "/run/0/seed = 1\n",
       "/run/0/status = COMPLETED\n",
       "/run/0/step_f = 300000\n",
       "/run/0/step_i = 0\n",
       "/run/0/target = cpu\n",
       "/run/0/regions/left - uint16((300000,))\n",
       "/run/0/regions/right - uint16((300000,))"
      ]
     },
     "metadata": {},
     "execution_count": 23
    }
   ],
   "metadata": {}
  },
  {
   "cell_type": "code",
   "execution_count": 7,
   "source": [
    "#CPU\r\n",
    "u.run(Nsteps//10, target='cpu', regions=[])"
   ],
   "outputs": [
    {
     "output_type": "stream",
     "name": "stderr",
     "text": [
      "100%|██████████| 3000000/3000000 [02:18<00:00, 21609.98it/s, total=10 ms]"
     ]
    },
    {
     "output_type": "stream",
     "name": "stdout",
     "text": [
      "With 2048 particles\n",
      "------------------------------------------\n",
      "CPU time per step and per particles:\n",
      "Total: 22.6 ns\n",
      "------------------------------------------\n",
      "For a timestep of 3.33 ns\n",
      "To simulate the trajectory of 1 particle during 1 s, we need 6.78  s\n"
     ]
    },
    {
     "output_type": "stream",
     "name": "stderr",
     "text": [
      "\n"
     ]
    }
   ],
   "metadata": {}
  },
  {
   "cell_type": "code",
   "execution_count": 8,
   "source": [
    "#GPU\r\n",
    "u.run(Nsteps//100, target='cpu', freq_dumps=100)"
   ],
   "outputs": [
    {
     "output_type": "stream",
     "name": "stderr",
     "text": [
      "100%|██████████| 300000/300000 [00:16<00:00, 17796.90it/s, total=1e+03 µs]"
     ]
    },
    {
     "output_type": "stream",
     "name": "stdout",
     "text": [
      "With 2048 particles\n",
      "------------------------------------------\n",
      "CPU time per step and per particles:\n",
      "Total: 27.4 ns\n",
      "------------------------------------------\n",
      "For a timestep of 3.33 ns\n",
      "To simulate the trajectory of 1 particle during 1 s, we need 8.23  s\n"
     ]
    },
    {
     "output_type": "stream",
     "name": "stderr",
     "text": [
      "\n"
     ]
    }
   ],
   "metadata": {}
  },
  {
   "cell_type": "code",
   "execution_count": 12,
   "source": [
    "traj = u.f['/run/5/trajectory']"
   ],
   "outputs": [],
   "metadata": {}
  },
  {
   "cell_type": "code",
   "execution_count": 16,
   "source": [
    "u.top.plot()\r\n",
    "plt.plot(traj[0,0,:], traj[0,1,:])\r\n",
    "# plt.xlim(traj[0,0,:].min(), traj[0,0,:].max())\r\n",
    "# plt.aspect()"
   ],
   "outputs": [
    {
     "output_type": "execute_result",
     "data": {
      "text/plain": [
       "(-29985.984375, -7319.5009765625)"
      ]
     },
     "metadata": {},
     "execution_count": 16
    },
    {
     "output_type": "display_data",
     "data": {
      "image/png": "[encoded data removed]",
      "text/plain": [
       "<Figure size 640x480 with 1 Axes>"
      ]
     },
     "metadata": {}
    }
   ],
   "metadata": {}
  },
  {
   "cell_type": "code",
   "execution_count": 15,
   "source": [
    "t0 = time.perf_counter_ns()\r\n",
    "time.sleep(1)\r\n",
    "time.perf_counter_ns() - t0"
   ],
   "outputs": [
    {
     "output_type": "execute_result",
     "data": {
      "text/plain": [
       "1005665600"
      ]
     },
     "metadata": {},
     "execution_count": 15
    }
   ],
   "metadata": {}
  },
  {
   "cell_type": "code",
   "execution_count": 12,
   "source": [
    "time.perf_counter_ns()"
   ],
   "outputs": [
    {
     "output_type": "execute_result",
     "data": {
      "text/plain": [
       "12284586829900"
      ]
     },
     "metadata": {},
     "execution_count": 12
    }
   ],
   "metadata": {}
  },
  {
   "cell_type": "code",
   "execution_count": 5,
   "source": [
    "#GPU\r\n",
    "u.run(Nsteps//100, freq_dumps=100)"
   ],
   "outputs": [
    {
     "output_type": "stream",
     "name": "stderr",
     "text": [
      "100%|██████████| 300000/300000 [00:02<00:00, 100366.95it/s, total=3 ms]"
     ]
    },
    {
     "output_type": "stream",
     "name": "stdout",
     "text": [
      "With 2048 particles\n",
      "------------------------------------------\n",
      "GPU time per step and per particles:\n",
      "Allocation: 39.9 fs\n",
      "Engine: 4.66 ns\n",
      "Transfert to RAM: 34.5 ps\n",
      "Total: 4.69 ns\n",
      "------------------------------------------\n",
      "CPU time per step and per particles:\n",
      "Total: 4.87 ns\n",
      "------------------------------------------\n",
      "For a timestep of 3.33 ns\n",
      "To simulate the trajectory of 1 particle during 1 s, we need 1.46  s\n"
     ]
    },
    {
     "output_type": "stream",
     "name": "stderr",
     "text": [
      "\n"
     ]
    }
   ],
   "metadata": {}
  },
  {
   "cell_type": "code",
   "execution_count": 4,
   "source": [
    "#CPU\r\n",
    "u.run(Nsteps//100)"
   ],
   "outputs": [
    {
     "output_type": "stream",
     "name": "stderr",
     "text": [
      "100%|██████████| 300000/300000 [00:14<00:00, 20960.32it/s, total=2 ms]"
     ]
    },
    {
     "output_type": "stream",
     "name": "stdout",
     "text": [
      "With 2048 particles\n",
      "------------------------------------------\n",
      "CPU time per step and per particles:\n",
      "Total: 23.3 ns\n",
      "------------------------------------------\n",
      "For a timestep of 3.33 ns\n",
      "To simulate the trajectory of 1 particle during 1 s, we need 6.99  s\n"
     ]
    },
    {
     "output_type": "stream",
     "name": "stderr",
     "text": [
      "\n"
     ]
    }
   ],
   "metadata": {}
  },
  {
   "cell_type": "code",
   "execution_count": 6,
   "source": [
    "#CPU\r\n",
    "u.run(10000, freq_dumps=100)"
   ],
   "outputs": [
    {
     "output_type": "stream",
     "name": "stderr",
     "text": [
      "100%|██████████| 10000/10000 [00:00<00:00, 15250.23it/s, total=2.04 ms]"
     ]
    },
    {
     "output_type": "stream",
     "name": "stdout",
     "text": [
      "With 2048 particles\n",
      "------------------------------------------\n",
      "CPU time per step and per particles:\n",
      "Total: 32.2 ns\n",
      "------------------------------------------\n",
      "For a timestep of 3.33 ns\n",
      "To simulate the trajectory of 1 particle during 1 s, we need 9.65  s\n"
     ]
    },
    {
     "output_type": "stream",
     "name": "stderr",
     "text": [
      "\n"
     ]
    }
   ],
   "metadata": {}
  },
  {
   "cell_type": "code",
   "execution_count": 13,
   "source": [
    "from pathlib import PosixPath"
   ],
   "outputs": [],
   "metadata": {}
  },
  {
   "cell_type": "code",
   "execution_count": 16,
   "source": [
    "items_path  = ('run/0/trajectory').split('/')"
   ],
   "outputs": [],
   "metadata": {}
  },
  {
   "cell_type": "code",
   "execution_count": 19,
   "source": [
    "'/'.join(items_path[:-1])"
   ],
   "outputs": [
    {
     "output_type": "execute_result",
     "data": {
      "text/plain": [
       "'run/0'"
      ]
     },
     "metadata": {},
     "execution_count": 19
    }
   ],
   "metadata": {}
  },
  {
   "cell_type": "code",
   "execution_count": 14,
   "source": [
    "str(PurePath('run/0/trajectory').parent)"
   ],
   "outputs": [
    {
     "output_type": "error",
     "ename": "NotImplementedError",
     "evalue": "cannot instantiate 'PosixPath' on your system",
     "traceback": [
      "\u001b[1;31m---------------------------------------------------------------------------\u001b[0m",
      "\u001b[1;31mNotImplementedError\u001b[0m                       Traceback (most recent call last)",
      "\u001b[1;32m<ipython-input-14-db509ab80403>\u001b[0m in \u001b[0;36m<module>\u001b[1;34m\u001b[0m\n\u001b[1;32m----> 1\u001b[1;33m \u001b[0mstr\u001b[0m\u001b[1;33m(\u001b[0m\u001b[0mPosixPath\u001b[0m\u001b[1;33m(\u001b[0m\u001b[1;34m'run/0/trajectory'\u001b[0m\u001b[1;33m)\u001b[0m\u001b[1;33m.\u001b[0m\u001b[0mparent\u001b[0m\u001b[1;33m)\u001b[0m\u001b[1;33m\u001b[0m\u001b[1;33m\u001b[0m\u001b[0m\n\u001b[0m",
      "\u001b[1;32m~\\anaconda3\\lib\\pathlib.py\u001b[0m in \u001b[0;36m__new__\u001b[1;34m(cls, *args, **kwargs)\u001b[0m\n\u001b[0;32m   1041\u001b[0m         \u001b[0mself\u001b[0m \u001b[1;33m=\u001b[0m \u001b[0mcls\u001b[0m\u001b[1;33m.\u001b[0m\u001b[0m_from_parts\u001b[0m\u001b[1;33m(\u001b[0m\u001b[0margs\u001b[0m\u001b[1;33m,\u001b[0m \u001b[0minit\u001b[0m\u001b[1;33m=\u001b[0m\u001b[1;32mFalse\u001b[0m\u001b[1;33m)\u001b[0m\u001b[1;33m\u001b[0m\u001b[1;33m\u001b[0m\u001b[0m\n\u001b[0;32m   1042\u001b[0m         \u001b[1;32mif\u001b[0m \u001b[1;32mnot\u001b[0m \u001b[0mself\u001b[0m\u001b[1;33m.\u001b[0m\u001b[0m_flavour\u001b[0m\u001b[1;33m.\u001b[0m\u001b[0mis_supported\u001b[0m\u001b[1;33m:\u001b[0m\u001b[1;33m\u001b[0m\u001b[1;33m\u001b[0m\u001b[0m\n\u001b[1;32m-> 1043\u001b[1;33m             raise NotImplementedError(\"cannot instantiate %r on your system\"\n\u001b[0m\u001b[0;32m   1044\u001b[0m                                       % (cls.__name__,))\n\u001b[0;32m   1045\u001b[0m         \u001b[0mself\u001b[0m\u001b[1;33m.\u001b[0m\u001b[0m_init\u001b[0m\u001b[1;33m(\u001b[0m\u001b[1;33m)\u001b[0m\u001b[1;33m\u001b[0m\u001b[1;33m\u001b[0m\u001b[0m\n",
      "\u001b[1;31mNotImplementedError\u001b[0m: cannot instantiate 'PosixPath' on your system"
     ]
    }
   ],
   "metadata": {}
  },
  {
   "cell_type": "code",
   "execution_count": 7,
   "source": [
    "data['trajectory'].shape"
   ],
   "outputs": [
    {
     "output_type": "execute_result",
     "data": {
      "text/plain": [
       "(2048, 2, 10)"
      ]
     },
     "metadata": {},
     "execution_count": 7
    }
   ],
   "metadata": {}
  },
  {
   "cell_type": "code",
   "execution_count": 4,
   "source": [
    "f = h5py.File(u.output_path, 'r')"
   ],
   "outputs": [],
   "metadata": {}
  },
  {
   "cell_type": "code",
   "execution_count": 8,
   "source": [
    "f['run/0/regions/left']"
   ],
   "outputs": [
    {
     "output_type": "execute_result",
     "data": {
      "text/plain": [
       "<HDF5 dataset \"left\": shape (300000,), type \"<u2\">"
      ]
     },
     "metadata": {},
     "execution_count": 8
    }
   ],
   "metadata": {}
  },
  {
   "cell_type": "code",
   "execution_count": 1,
   "source": [
    "gpu_sim._GPU_COMPUTATION = False"
   ],
   "outputs": [
    {
     "output_type": "error",
     "ename": "NameError",
     "evalue": "name 'gpu_sim' is not defined",
     "traceback": [
      "\u001b[1;31m---------------------------------------------------------------------------\u001b[0m",
      "\u001b[1;31mNameError\u001b[0m                                 Traceback (most recent call last)",
      "\u001b[1;32m<ipython-input-1-107b4ebd8c47>\u001b[0m in \u001b[0;36m<module>\u001b[1;34m\u001b[0m\n\u001b[1;32m----> 1\u001b[1;33m \u001b[0mgpu_sim\u001b[0m\u001b[1;33m.\u001b[0m\u001b[0m_GPU_COMPUTATION\u001b[0m \u001b[1;33m=\u001b[0m \u001b[1;32mFalse\u001b[0m\u001b[1;33m\u001b[0m\u001b[1;33m\u001b[0m\u001b[0m\n\u001b[0m",
      "\u001b[1;31mNameError\u001b[0m: name 'gpu_sim' is not defined"
     ]
    }
   ],
   "metadata": {}
  },
  {
   "cell_type": "code",
   "execution_count": 7,
   "source": [
    "Universe._GPU_COMPUTATION"
   ],
   "outputs": [
    {
     "output_type": "error",
     "ename": "AttributeError",
     "evalue": "type object 'Universe' has no attribute '_GPU_COMPUTATION'",
     "traceback": [
      "\u001b[1;31m---------------------------------------------------------------------------\u001b[0m",
      "\u001b[1;31mAttributeError\u001b[0m                            Traceback (most recent call last)",
      "\u001b[1;32m<ipython-input-7-2ea593f7d6c1>\u001b[0m in \u001b[0;36m<module>\u001b[1;34m\u001b[0m\n\u001b[1;32m----> 1\u001b[1;33m \u001b[0mUniverse\u001b[0m\u001b[1;33m.\u001b[0m\u001b[0m_GPU_COMPUTATION\u001b[0m\u001b[1;33m\u001b[0m\u001b[1;33m\u001b[0m\u001b[0m\n\u001b[0m",
      "\u001b[1;31mAttributeError\u001b[0m: type object 'Universe' has no attribute '_GPU_COMPUTATION'"
     ]
    }
   ],
   "metadata": {}
  },
  {
   "cell_type": "code",
   "execution_count": 5,
   "source": [
    "_GPU_COMPUTATION"
   ],
   "outputs": [
    {
     "output_type": "error",
     "ename": "NameError",
     "evalue": "name '_GPU_COMPUTATION' is not defined",
     "traceback": [
      "\u001b[1;31m---------------------------------------------------------------------------\u001b[0m",
      "\u001b[1;31mNameError\u001b[0m                                 Traceback (most recent call last)",
      "\u001b[1;32m<ipython-input-5-7276550399ec>\u001b[0m in \u001b[0;36m<module>\u001b[1;34m\u001b[0m\n\u001b[1;32m----> 1\u001b[1;33m \u001b[0m_GPU_COMPUTATION\u001b[0m\u001b[1;33m\u001b[0m\u001b[1;33m\u001b[0m\u001b[0m\n\u001b[0m",
      "\u001b[1;31mNameError\u001b[0m: name '_GPU_COMPUTATION' is not defined"
     ]
    }
   ],
   "metadata": {}
  },
  {
   "cell_type": "code",
   "execution_count": null,
   "source": [],
   "outputs": [],
   "metadata": {}
  }
 ],
 "metadata": {
  "orig_nbformat": 4,
  "language_info": {
   "name": "python",
   "version": "3.8.8",
   "mimetype": "text/x-python",
   "codemirror_mode": {
    "name": "ipython",
    "version": 3
   },
   "pygments_lexer": "ipython3",
   "nbconvert_exporter": "python",
   "file_extension": ".py"
  },
  "kernelspec": {
   "name": "python3",
   "display_name": "Python 3.8.8 64-bit"
  },
  "interpreter": {
   "hash": "d4ce2f0b9c719736e7f661a13fe0b346d5bd093966a3397b765b95efddff6c19"
  }
 },
 "nbformat": 4,
 "nbformat_minor": 2
}