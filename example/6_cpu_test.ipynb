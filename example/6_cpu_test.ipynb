{
 "cells": [
  {
   "cell_type": "code",
   "execution_count": 1,
   "source": [
    "import time\r\n",
    "import numpy as np\r\n",
    "import numba as nb\r\n",
    "import randomgen\r\n",
    "N_THREADS = nb.get_num_threads()\r\n",
    "from numpy.random import PCG64\r\n",
    "from timeit import timeit\r\n",
    "\r\n"
   ],
   "outputs": [],
   "metadata": {}
  },
  {
   "cell_type": "code",
   "execution_count": 20,
   "source": [
    "randomgen.generator.standard_normal(dtype='float32')"
   ],
   "outputs": [
    {
     "output_type": "execute_result",
     "data": {
      "text/plain": [
       "-0.6088277101516724"
      ]
     },
     "metadata": {},
     "execution_count": 20
    }
   ],
   "metadata": {}
  },
  {
   "cell_type": "code",
   "execution_count": 51,
   "source": [
    "@nb.jit(nopython=True, parallel=True)\r\n",
    "def test(Nsteps, out):\r\n",
    "    for i in nb.prange(out.shape[0]):\r\n",
    "        np.random.seed(i)\r\n",
    "        for step in range(Nsteps):\r\n",
    "            out[i] += np.random.standard_normal()\r\n",
    "            out[i] += np.random.standard_normal()\r\n",
    "\r\n",
    "bit_gen = PCG64()\r\n",
    "next_d = bit_gen.cffi.next_double\r\n",
    "state_addr = bit_gen.cffi.state_address\r\n",
    "\r\n",
    "@nb.jit(nopython=True, parallel=True)\r\n",
    "def test_f32(Nsteps, out):\r\n",
    "    for i in nb.prange(out.shape[0]):\r\n",
    "        np.random.seed(i)\r\n",
    "        for step in range(Nsteps):\r\n",
    "            U1 = np.random.rand()\r\n",
    "            U2 = np.random.rand()\r\n",
    "            R = np.sqrt(-2 * np.log(U1))\r\n",
    "            Theta = 2 * np.pi * U2\r\n",
    "            X = R * np.cos(Theta)\r\n",
    "            Y = R * np.sin(Theta)\r\n",
    "            out[i] += X + Y\r\n",
    "            # out[i] += np.random.uniform(0,1)"
   ],
   "outputs": [],
   "metadata": {}
  },
  {
   "cell_type": "code",
   "execution_count": 46,
   "source": [
    "N_steps = 10_000_000\r\n",
    "N_particles = 10\r\n"
   ],
   "outputs": [],
   "metadata": {}
  },
  {
   "cell_type": "code",
   "execution_count": 47,
   "source": [
    "out = np.zeros(N_particles)\r\n",
    "test(N_steps, out) # warmup\r\n",
    "N_loops = 5\r\n",
    "t0 = time.time_ns()\r\n",
    "for _ in range(N_loops):\r\n",
    "    test(N_steps, out)\r\n",
    "delta_t = (time.time_ns() - t0)/N_loops\r\n",
    "print(f'{delta_t/N_steps/N_particles*N_THREADS:.2f} ns/dt/p/cores')"
   ],
   "outputs": [
    {
     "output_type": "stream",
     "name": "stdout",
     "text": [
      "175.72 ns/dt/p/cores\n"
     ]
    }
   ],
   "metadata": {}
  },
  {
   "cell_type": "code",
   "execution_count": 52,
   "source": [
    "out = np.zeros(N_particles, dtype='float32')\r\n",
    "test_f32(N_steps, out) # warmup\r\n",
    "N_loops = 5\r\n",
    "t0 = time.time_ns()\r\n",
    "for _ in range(N_loops):\r\n",
    "    test_f32(N_steps, out)\r\n",
    "delta_t = (time.time_ns() - t0)/N_loops\r\n",
    "print(f'{delta_t/N_steps/N_particles*N_THREADS:.2f} ns/dt/p/cores')"
   ],
   "outputs": [
    {
     "output_type": "stream",
     "name": "stdout",
     "text": [
      "61.34 ns/dt/p/cores\n"
     ]
    }
   ],
   "metadata": {}
  },
  {
   "cell_type": "code",
   "execution_count": null,
   "source": [
    "randomgen.generator.standard_normal()"
   ],
   "outputs": [],
   "metadata": {}
  },
  {
   "cell_type": "code",
   "execution_count": 52,
   "source": [
    "test.parallel_diagnostics(level=1)"
   ],
   "outputs": [
    {
     "output_type": "stream",
     "name": "stdout",
     "text": [
      " \n",
      "================================================================================\n",
      " Parallel Accelerator Optimizing:  Function test, <ipython-\n",
      "input-42-b98cb058667e> (1)  \n",
      "================================================================================\n",
      "\n",
      "\n",
      "Parallel loop listing for  Function test, <ipython-input-42-b98cb058667e> (1) \n",
      "------------------------------------------------|loop #ID\n",
      "@nb.jit(nopython=True, parallel=True)           | \n",
      "def test(Nsteps, out):                          | \n",
      "    for i in nb.prange(out.shape[0]):-----------| #4\n",
      "        np.random.seed(i)                       | \n",
      "        for step in range(Nsteps):              | \n",
      "            out[i] += np.random.uniform(0,1)    | \n",
      "------------------------------ After Optimisation ------------------------------\n",
      "Parallel structure is already optimal.\n",
      "--------------------------------------------------------------------------------\n",
      "--------------------------------------------------------------------------------\n",
      " \n"
     ]
    }
   ],
   "metadata": {}
  },
  {
   "cell_type": "code",
   "execution_count": 57,
   "source": [
    "import randomgen"
   ],
   "outputs": [
    {
     "output_type": "error",
     "ename": "ModuleNotFoundError",
     "evalue": "No module named 'randomgen'",
     "traceback": [
      "\u001b[1;31m---------------------------------------------------------------------------\u001b[0m",
      "\u001b[1;31mModuleNotFoundError\u001b[0m                       Traceback (most recent call last)",
      "\u001b[1;32m<ipython-input-57-5a0683341995>\u001b[0m in \u001b[0;36m<module>\u001b[1;34m\u001b[0m\n\u001b[1;32m----> 1\u001b[1;33m \u001b[1;32mimport\u001b[0m \u001b[0mrandomgen\u001b[0m\u001b[1;33m\u001b[0m\u001b[1;33m\u001b[0m\u001b[0m\n\u001b[0m",
      "\u001b[1;31mModuleNotFoundError\u001b[0m: No module named 'randomgen'"
     ]
    }
   ],
   "metadata": {}
  },
  {
   "cell_type": "code",
   "execution_count": 54,
   "source": [
    "from numba import cuda"
   ],
   "outputs": [],
   "metadata": {}
  },
  {
   "cell_type": "code",
   "execution_count": 55,
   "source": [
    "cuda.detect()"
   ],
   "outputs": [
    {
     "output_type": "stream",
     "name": "stdout",
     "text": [
      "Found 1 CUDA devices\n",
      "id 0    b'NVIDIA GeForce GTX 1050 Ti with Max-Q Design'                              [SUPPORTED]\n",
      "                      compute capability: 6.1\n",
      "                           pci device id: 0\n",
      "                              pci bus id: 2\n",
      "Summary:\n",
      "\t1/1 devices are supported\n"
     ]
    },
    {
     "output_type": "execute_result",
     "data": {
      "text/plain": [
       "True"
      ]
     },
     "metadata": {},
     "execution_count": 55
    }
   ],
   "metadata": {}
  },
  {
   "cell_type": "code",
   "execution_count": 56,
   "source": [
    "cuda.is_available()"
   ],
   "outputs": [
    {
     "output_type": "execute_result",
     "data": {
      "text/plain": [
       "True"
      ]
     },
     "metadata": {},
     "execution_count": 56
    }
   ],
   "metadata": {}
  },
  {
   "cell_type": "code",
   "execution_count": 1,
   "source": [
    "from brownpy.settings import set_computation_type\r\n",
    "set_computation_type('gpu')\r\n",
    "from brownpy import gpu_sim\r\n",
    "from brownpy.gpu_sim import Universe\r\n",
    "import brownpy.topology as Top\r\n",
    "from brownpy.utils import prefix, unwrap\r\n",
    "import matplotlib.pyplot as plt\r\n",
    "# https://matplotlib.org/stable/gallery/axes_grid1/inset_locator_demo.html\r\n",
    "from mpl_toolkits.axes_grid1.inset_locator import inset_axes\r\n",
    "import h5py\r\n",
    "import numpy as np\r\n",
    "from threading import Thread\r\n",
    "from pathlib import Path\r\n",
    "import time\r\n",
    "import pandas as pd\r\n",
    "from tqdm.notebook import tqdm\r\n",
    "plt.style.use('default')\r\n",
    "import cupy as cp"
   ],
   "outputs": [],
   "metadata": {}
  },
  {
   "cell_type": "code",
   "execution_count": 2,
   "source": [
    "# Diffusion coefficient\r\n",
    "D = 1.5E-4 # A²/fs  (1.5E-9 m²/s) - Diffusion coefficient\r\n",
    "\r\n",
    "\"\"\"\r\n",
    "┃         ┃   ┃         ┃      ↑  \r\n",
    "┃         ┃   ┃         ┃      │\r\n",
    "┃         ┗━━━┛         ┃      │\r\n",
    "┃                       ┃ ↕ Hc │ 2 H\r\n",
    "┃         ┏━━━┓         ┃      │\r\n",
    "┃         ┃   ┃         ┃      │\r\n",
    "┃         ┃   ┃         ┃      ↓\r\n",
    " ←-------→ ←-→ ←-------→\r\n",
    "     L      Lc     L\r\n",
    "\"\"\"\r\n",
    "# Conversion into my notation\r\n",
    "Hc = 1E2 # A (10nm) - Channel width\r\n",
    "L = 250*Hc # Channel depth\r\n",
    "H_factor = 1\r\n",
    "H = H_factor*Hc # Distance between channel\r\n",
    "ar_factor = 100\r\n",
    "Lc = ar_factor*Hc # Channel length\r\n",
    "\r\n",
    "# Timestep \r\n",
    "dt = int(0.05*Hc**2/D)\r\n",
    "N = 2*1024\r\n",
    "print(f'dt = {dt:.2e} fs = {prefix(dt*1E-15)}s')\r\n",
    "\r\n",
    "Nsteps = int(1.5*1E6/0.05) \r\n",
    "print(f\"Number of steps : {Nsteps:.2e} = {prefix(dt*Nsteps*1E-15)}s\")\r\n",
    "\r\n",
    "\r\n",
    "top = Top.ElasticChannel2(Hc=Hc, Lc=Lc, \r\n",
    "                          H=H, L=L)\r\n",
    "u=Universe(N=N, top=top, D=D, dt=dt,\r\n",
    "           output_path=f'./4/channel/{H_factor}_{ar_factor}',\r\n",
    "           overwrite=True)"
   ],
   "outputs": [
    {
     "output_type": "stream",
     "name": "stdout",
     "text": [
      "dt = 3.33e+06 fs = 3.33 ns\n",
      "Number of steps : 3.00e+07 = 100 ms\n"
     ]
    }
   ],
   "metadata": {}
  },
  {
   "cell_type": "code",
   "execution_count": 4,
   "source": [
    "#GPU\r\n",
    "u.run(Nsteps//100)"
   ],
   "outputs": [
    {
     "output_type": "stream",
     "name": "stderr",
     "text": [
      "100%|██████████| 300000/300000 [00:03<00:00, 99334.95it/s, total=2 ms] "
     ]
    },
    {
     "output_type": "stream",
     "name": "stdout",
     "text": [
      "With 2048 particles\n",
      "------------------------------------------\n",
      "GPU time per step and per particles:\n",
      "Allocation: 49.6 fs\n",
      "Engine: 4.8 ns\n",
      "Transfert to RAM: 3.21 ps\n",
      "Total: 4.8 ns\n",
      "------------------------------------------\n",
      "CPU time per step and per particles:\n",
      "Total: 4.92 ns\n",
      "------------------------------------------\n",
      "For a timestep of 3.33 ns\n",
      "To simulate the trajectory of 1 particle during 1 s, we need 1.48  s\n"
     ]
    },
    {
     "output_type": "stream",
     "name": "stderr",
     "text": [
      "\n"
     ]
    }
   ],
   "metadata": {}
  },
  {
   "cell_type": "code",
   "execution_count": 5,
   "source": [
    "#GPU\r\n",
    "u.run(Nsteps//100, freq_dumps=100)"
   ],
   "outputs": [
    {
     "output_type": "stream",
     "name": "stderr",
     "text": [
      "100%|██████████| 300000/300000 [00:02<00:00, 100366.95it/s, total=3 ms]"
     ]
    },
    {
     "output_type": "stream",
     "name": "stdout",
     "text": [
      "With 2048 particles\n",
      "------------------------------------------\n",
      "GPU time per step and per particles:\n",
      "Allocation: 39.9 fs\n",
      "Engine: 4.66 ns\n",
      "Transfert to RAM: 34.5 ps\n",
      "Total: 4.69 ns\n",
      "------------------------------------------\n",
      "CPU time per step and per particles:\n",
      "Total: 4.87 ns\n",
      "------------------------------------------\n",
      "For a timestep of 3.33 ns\n",
      "To simulate the trajectory of 1 particle during 1 s, we need 1.46  s\n"
     ]
    },
    {
     "output_type": "stream",
     "name": "stderr",
     "text": [
      "\n"
     ]
    }
   ],
   "metadata": {}
  },
  {
   "cell_type": "code",
   "execution_count": 4,
   "source": [
    "#CPU\r\n",
    "u.run(Nsteps//100)"
   ],
   "outputs": [
    {
     "output_type": "stream",
     "name": "stderr",
     "text": [
      "100%|██████████| 300000/300000 [00:14<00:00, 20960.32it/s, total=2 ms]"
     ]
    },
    {
     "output_type": "stream",
     "name": "stdout",
     "text": [
      "With 2048 particles\n",
      "------------------------------------------\n",
      "CPU time per step and per particles:\n",
      "Total: 23.3 ns\n",
      "------------------------------------------\n",
      "For a timestep of 3.33 ns\n",
      "To simulate the trajectory of 1 particle during 1 s, we need 6.99  s\n"
     ]
    },
    {
     "output_type": "stream",
     "name": "stderr",
     "text": [
      "\n"
     ]
    }
   ],
   "metadata": {}
  },
  {
   "cell_type": "code",
   "execution_count": 6,
   "source": [
    "#CPU\r\n",
    "u.run(10000, freq_dumps=100)"
   ],
   "outputs": [
    {
     "output_type": "stream",
     "name": "stderr",
     "text": [
      "100%|██████████| 10000/10000 [00:00<00:00, 15250.23it/s, total=2.04 ms]"
     ]
    },
    {
     "output_type": "stream",
     "name": "stdout",
     "text": [
      "With 2048 particles\n",
      "------------------------------------------\n",
      "CPU time per step and per particles:\n",
      "Total: 32.2 ns\n",
      "------------------------------------------\n",
      "For a timestep of 3.33 ns\n",
      "To simulate the trajectory of 1 particle during 1 s, we need 9.65  s\n"
     ]
    },
    {
     "output_type": "stream",
     "name": "stderr",
     "text": [
      "\n"
     ]
    }
   ],
   "metadata": {}
  },
  {
   "cell_type": "code",
   "execution_count": 5,
   "source": [
    "data=u[0]"
   ],
   "outputs": [
    {
     "output_type": "stream",
     "name": "stdout",
     "text": [
      "Reading trajectory ...\n",
      "... Done\n",
      "left  read\n",
      "right  read\n"
     ]
    }
   ],
   "metadata": {}
  },
  {
   "cell_type": "code",
   "execution_count": 7,
   "source": [
    "data['trajectory'].shape"
   ],
   "outputs": [
    {
     "output_type": "execute_result",
     "data": {
      "text/plain": [
       "(2048, 2, 10)"
      ]
     },
     "metadata": {},
     "execution_count": 7
    }
   ],
   "metadata": {}
  },
  {
   "cell_type": "code",
   "execution_count": 4,
   "source": [
    "f = h5py.File(u.output_path, 'r')"
   ],
   "outputs": [],
   "metadata": {}
  },
  {
   "cell_type": "code",
   "execution_count": 8,
   "source": [
    "f['run/0/regions/left']"
   ],
   "outputs": [
    {
     "output_type": "execute_result",
     "data": {
      "text/plain": [
       "<HDF5 dataset \"left\": shape (300000,), type \"<u2\">"
      ]
     },
     "metadata": {},
     "execution_count": 8
    }
   ],
   "metadata": {}
  },
  {
   "cell_type": "code",
   "execution_count": 1,
   "source": [
    "gpu_sim._GPU_COMPUTATION = False"
   ],
   "outputs": [
    {
     "output_type": "error",
     "ename": "NameError",
     "evalue": "name 'gpu_sim' is not defined",
     "traceback": [
      "\u001b[1;31m---------------------------------------------------------------------------\u001b[0m",
      "\u001b[1;31mNameError\u001b[0m                                 Traceback (most recent call last)",
      "\u001b[1;32m<ipython-input-1-107b4ebd8c47>\u001b[0m in \u001b[0;36m<module>\u001b[1;34m\u001b[0m\n\u001b[1;32m----> 1\u001b[1;33m \u001b[0mgpu_sim\u001b[0m\u001b[1;33m.\u001b[0m\u001b[0m_GPU_COMPUTATION\u001b[0m \u001b[1;33m=\u001b[0m \u001b[1;32mFalse\u001b[0m\u001b[1;33m\u001b[0m\u001b[1;33m\u001b[0m\u001b[0m\n\u001b[0m",
      "\u001b[1;31mNameError\u001b[0m: name 'gpu_sim' is not defined"
     ]
    }
   ],
   "metadata": {}
  },
  {
   "cell_type": "code",
   "execution_count": 7,
   "source": [
    "Universe._GPU_COMPUTATION"
   ],
   "outputs": [
    {
     "output_type": "error",
     "ename": "AttributeError",
     "evalue": "type object 'Universe' has no attribute '_GPU_COMPUTATION'",
     "traceback": [
      "\u001b[1;31m---------------------------------------------------------------------------\u001b[0m",
      "\u001b[1;31mAttributeError\u001b[0m                            Traceback (most recent call last)",
      "\u001b[1;32m<ipython-input-7-2ea593f7d6c1>\u001b[0m in \u001b[0;36m<module>\u001b[1;34m\u001b[0m\n\u001b[1;32m----> 1\u001b[1;33m \u001b[0mUniverse\u001b[0m\u001b[1;33m.\u001b[0m\u001b[0m_GPU_COMPUTATION\u001b[0m\u001b[1;33m\u001b[0m\u001b[1;33m\u001b[0m\u001b[0m\n\u001b[0m",
      "\u001b[1;31mAttributeError\u001b[0m: type object 'Universe' has no attribute '_GPU_COMPUTATION'"
     ]
    }
   ],
   "metadata": {}
  },
  {
   "cell_type": "code",
   "execution_count": 5,
   "source": [
    "_GPU_COMPUTATION"
   ],
   "outputs": [
    {
     "output_type": "error",
     "ename": "NameError",
     "evalue": "name '_GPU_COMPUTATION' is not defined",
     "traceback": [
      "\u001b[1;31m---------------------------------------------------------------------------\u001b[0m",
      "\u001b[1;31mNameError\u001b[0m                                 Traceback (most recent call last)",
      "\u001b[1;32m<ipython-input-5-7276550399ec>\u001b[0m in \u001b[0;36m<module>\u001b[1;34m\u001b[0m\n\u001b[1;32m----> 1\u001b[1;33m \u001b[0m_GPU_COMPUTATION\u001b[0m\u001b[1;33m\u001b[0m\u001b[1;33m\u001b[0m\u001b[0m\n\u001b[0m",
      "\u001b[1;31mNameError\u001b[0m: name '_GPU_COMPUTATION' is not defined"
     ]
    }
   ],
   "metadata": {}
  },
  {
   "cell_type": "code",
   "execution_count": null,
   "source": [],
   "outputs": [],
   "metadata": {}
  }
 ],
 "metadata": {
  "orig_nbformat": 4,
  "language_info": {
   "name": "python",
   "version": "3.8.8",
   "mimetype": "text/x-python",
   "codemirror_mode": {
    "name": "ipython",
    "version": 3
   },
   "pygments_lexer": "ipython3",
   "nbconvert_exporter": "python",
   "file_extension": ".py"
  },
  "kernelspec": {
   "name": "python3",
   "display_name": "Python 3.8.8 64-bit ('base': conda)"
  },
  "interpreter": {
   "hash": "d4ce2f0b9c719736e7f661a13fe0b346d5bd093966a3397b765b95efddff6c19"
  }
 },
 "nbformat": 4,
 "nbformat_minor": 2
}