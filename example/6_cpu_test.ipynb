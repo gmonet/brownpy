{
 "cells": [
  {
   "cell_type": "code",
   "execution_count": 17,
   "source": [
    "import time\r\n",
    "import numpy as np\r\n",
    "import numba as nb\r\n",
    "from timeit import timeit"
   ],
   "outputs": [],
   "metadata": {}
  },
  {
   "cell_type": "code",
   "execution_count": 37,
   "source": [
    "@nb.jit(nopython=True, parallel=True)\r\n",
    "def test(Nsteps, out, rng_seeds):\r\n",
    "    for i in nb.prange(out.shape[0]):\r\n",
    "        np.random.seed(rng_seeds[i])\r\n",
    "        for step in range(Nsteps):\r\n",
    "            out[i] += np.random.standard_normal()\r\n",
    "            out[i] += np.random.standard_normal()"
   ],
   "outputs": [],
   "metadata": {}
  },
  {
   "cell_type": "code",
   "execution_count": 38,
   "source": [
    "N_steps = 10_000_000\r\n",
    "N_particles = 10"
   ],
   "outputs": [],
   "metadata": {}
  },
  {
   "cell_type": "code",
   "execution_count": 43,
   "source": [
    "seed=1\r\n",
    "np.random.seed(seed)\r\n",
    "rng_seeds = np.random.randint(np.iinfo(np.uint32).max, size=N_particles, dtype=np.uint32)\r\n",
    "out = np.zeros(N_particles)\r\n",
    "test(N_steps, out, rng_seeds) # warmup\r\n",
    "N_loops = 5\r\n",
    "t0 = time.time_ns()\r\n",
    "for _ in range(N_loops):\r\n",
    "    rng_seeds = np.random.randint(np.iinfo(np.uint32).max, size=N_particles, dtype=np.uint32)\r\n",
    "    test(N_steps, out, rng_seeds)\r\n",
    "delta_t = (time.time_ns() - t0)/N_loops\r\n",
    "print(f'{delta_t/N_steps/N_particles:.2f} ns/dt/p')\r\n",
    "out[0]"
   ],
   "outputs": [
    {
     "output_type": "stream",
     "name": "stdout",
     "text": [
      "22.28 ns/dt/p\n"
     ]
    },
    {
     "output_type": "execute_result",
     "data": {
      "text/plain": [
       "7771.671936225897"
      ]
     },
     "metadata": {},
     "execution_count": 43
    }
   ],
   "metadata": {}
  },
  {
   "cell_type": "code",
   "execution_count": 41,
   "source": [
    "out[0]"
   ],
   "outputs": [
    {
     "output_type": "execute_result",
     "data": {
      "text/plain": [
       "5608.852327314961"
      ]
     },
     "metadata": {},
     "execution_count": 41
    }
   ],
   "metadata": {}
  },
  {
   "cell_type": "code",
   "execution_count": 46,
   "source": [
    "np.random.SeedSequence().entropy"
   ],
   "outputs": [
    {
     "output_type": "execute_result",
     "data": {
      "text/plain": [
       "66432083429865109102651919992550842517"
      ]
     },
     "metadata": {},
     "execution_count": 46
    }
   ],
   "metadata": {}
  },
  {
   "cell_type": "code",
   "execution_count": 52,
   "source": [
    "np.random.SeedSequence().entropy%(2**32-1)"
   ],
   "outputs": [
    {
     "output_type": "execute_result",
     "data": {
      "text/plain": [
       "2714689720"
      ]
     },
     "metadata": {},
     "execution_count": 52
    }
   ],
   "metadata": {}
  },
  {
   "cell_type": "code",
   "execution_count": 55,
   "source": [
    "seed = np.random.SeedSequence().entropy%(2**32-1)\r\n",
    "np.random.seed(seed)\r\n",
    "np.random.uniform()"
   ],
   "outputs": [
    {
     "output_type": "execute_result",
     "data": {
      "text/plain": [
       "0.526017278631049"
      ]
     },
     "metadata": {},
     "execution_count": 55
    }
   ],
   "metadata": {}
  },
  {
   "cell_type": "code",
   "execution_count": 52,
   "source": [
    "out = np.zeros(N_particles, dtype='float32')\r\n",
    "test_f32(N_steps, out) # warmup\r\n",
    "N_loops = 5\r\n",
    "t0 = time.time_ns()\r\n",
    "for _ in range(N_loops):\r\n",
    "    test_f32(N_steps, out)\r\n",
    "delta_t = (time.time_ns() - t0)/N_loops\r\n",
    "print(f'{delta_t/N_steps/N_particles*N_THREADS:.2f} ns/dt/p/cores')"
   ],
   "outputs": [
    {
     "output_type": "stream",
     "name": "stdout",
     "text": [
      "61.34 ns/dt/p/cores\n"
     ]
    }
   ],
   "metadata": {}
  },
  {
   "cell_type": "code",
   "execution_count": null,
   "source": [
    "randomgen.generator.standard_normal()"
   ],
   "outputs": [],
   "metadata": {}
  },
  {
   "cell_type": "code",
   "execution_count": 52,
   "source": [
    "test.parallel_diagnostics(level=1)"
   ],
   "outputs": [
    {
     "output_type": "stream",
     "name": "stdout",
     "text": [
      " \n",
      "================================================================================\n",
      " Parallel Accelerator Optimizing:  Function test, <ipython-\n",
      "input-42-b98cb058667e> (1)  \n",
      "================================================================================\n",
      "\n",
      "\n",
      "Parallel loop listing for  Function test, <ipython-input-42-b98cb058667e> (1) \n",
      "------------------------------------------------|loop #ID\n",
      "@nb.jit(nopython=True, parallel=True)           | \n",
      "def test(Nsteps, out):                          | \n",
      "    for i in nb.prange(out.shape[0]):-----------| #4\n",
      "        np.random.seed(i)                       | \n",
      "        for step in range(Nsteps):              | \n",
      "            out[i] += np.random.uniform(0,1)    | \n",
      "------------------------------ After Optimisation ------------------------------\n",
      "Parallel structure is already optimal.\n",
      "--------------------------------------------------------------------------------\n",
      "--------------------------------------------------------------------------------\n",
      " \n"
     ]
    }
   ],
   "metadata": {}
  },
  {
   "cell_type": "code",
   "execution_count": 57,
   "source": [
    "import randomgen"
   ],
   "outputs": [
    {
     "output_type": "error",
     "ename": "ModuleNotFoundError",
     "evalue": "No module named 'randomgen'",
     "traceback": [
      "\u001b[1;31m---------------------------------------------------------------------------\u001b[0m",
      "\u001b[1;31mModuleNotFoundError\u001b[0m                       Traceback (most recent call last)",
      "\u001b[1;32m<ipython-input-57-5a0683341995>\u001b[0m in \u001b[0;36m<module>\u001b[1;34m\u001b[0m\n\u001b[1;32m----> 1\u001b[1;33m \u001b[1;32mimport\u001b[0m \u001b[0mrandomgen\u001b[0m\u001b[1;33m\u001b[0m\u001b[1;33m\u001b[0m\u001b[0m\n\u001b[0m",
      "\u001b[1;31mModuleNotFoundError\u001b[0m: No module named 'randomgen'"
     ]
    }
   ],
   "metadata": {}
  },
  {
   "cell_type": "code",
   "execution_count": 54,
   "source": [
    "from numba import cuda"
   ],
   "outputs": [],
   "metadata": {}
  },
  {
   "cell_type": "code",
   "execution_count": 55,
   "source": [
    "cuda.detect()"
   ],
   "outputs": [
    {
     "output_type": "stream",
     "name": "stdout",
     "text": [
      "Found 1 CUDA devices\n",
      "id 0    b'NVIDIA GeForce GTX 1050 Ti with Max-Q Design'                              [SUPPORTED]\n",
      "                      compute capability: 6.1\n",
      "                           pci device id: 0\n",
      "                              pci bus id: 2\n",
      "Summary:\n",
      "\t1/1 devices are supported\n"
     ]
    },
    {
     "output_type": "execute_result",
     "data": {
      "text/plain": [
       "True"
      ]
     },
     "metadata": {},
     "execution_count": 55
    }
   ],
   "metadata": {}
  },
  {
   "cell_type": "code",
   "execution_count": 56,
   "source": [
    "cuda.is_available()"
   ],
   "outputs": [
    {
     "output_type": "execute_result",
     "data": {
      "text/plain": [
       "True"
      ]
     },
     "metadata": {},
     "execution_count": 56
    }
   ],
   "metadata": {}
  },
  {
   "cell_type": "code",
   "execution_count": 3,
   "source": [
    "import numpy as np"
   ],
   "outputs": [],
   "metadata": {}
  },
  {
   "cell_type": "code",
   "execution_count": 7,
   "source": [
    "Universe"
   ],
   "outputs": [
    {
     "output_type": "execute_result",
     "data": {
      "text/plain": [
       "brownpy.universe.Universe"
      ]
     },
     "metadata": {},
     "execution_count": 7
    }
   ],
   "metadata": {}
  },
  {
   "cell_type": "code",
   "execution_count": 1,
   "source": [
    "from brownpy import Universe"
   ],
   "outputs": [],
   "metadata": {}
  },
  {
   "cell_type": "code",
   "execution_count": 1,
   "source": [
    "from brownpy import gpu_sim\r\n",
    "from brownpy.gpu_sim import Universe\r\n",
    "import brownpy.topology as Top\r\n",
    "from brownpy.utils import prefix, unwrap\r\n",
    "import matplotlib.pyplot as plt\r\n",
    "# https://matplotlib.org/stable/gallery/axes_grid1/inset_locator_demo.html\r\n",
    "from mpl_toolkits.axes_grid1.inset_locator import inset_axes\r\n",
    "import h5py\r\n",
    "import numpy as np\r\n",
    "from threading import Thread\r\n",
    "from pathlib import Path\r\n",
    "import time\r\n",
    "import pandas as pd\r\n",
    "from tqdm.notebook import tqdm\r\n",
    "plt.style.use('default')\r\n",
    "import cupy as cp"
   ],
   "outputs": [],
   "metadata": {}
  },
  {
   "cell_type": "code",
   "execution_count": 2,
   "source": [
    "import sys"
   ],
   "outputs": [],
   "metadata": {}
  },
  {
   "cell_type": "code",
   "execution_count": 6,
   "source": [
    "sys.modules['Universe']"
   ],
   "outputs": [
    {
     "output_type": "error",
     "ename": "KeyError",
     "evalue": "'Universe'",
     "traceback": [
      "\u001b[1;31m---------------------------------------------------------------------------\u001b[0m",
      "\u001b[1;31mKeyError\u001b[0m                                  Traceback (most recent call last)",
      "\u001b[1;32m<ipython-input-6-ae81bfd879db>\u001b[0m in \u001b[0;36m<module>\u001b[1;34m\u001b[0m\n\u001b[1;32m----> 1\u001b[1;33m \u001b[0msys\u001b[0m\u001b[1;33m.\u001b[0m\u001b[0mmodules\u001b[0m\u001b[1;33m[\u001b[0m\u001b[1;34m'Universe'\u001b[0m\u001b[1;33m]\u001b[0m\u001b[1;33m\u001b[0m\u001b[1;33m\u001b[0m\u001b[0m\n\u001b[0m",
      "\u001b[1;31mKeyError\u001b[0m: 'Universe'"
     ]
    }
   ],
   "metadata": {}
  },
  {
   "cell_type": "code",
   "execution_count": 3,
   "source": [
    "import warnings\r\n",
    "warnings.warn('Please import Universe class from universe module : from brownpy.universe import Universe', \r\n",
    "              DeprecationWarning);"
   ],
   "outputs": [
    {
     "output_type": "stream",
     "name": "stderr",
     "text": [
      "<ipython-input-3-31dc5b923f32>:2: DeprecationWarning: Please import Universe class from universe module : from brownpy.universe import Universe\n",
      "  warnings.warn('Please import Universe class from universe module : from brownpy.universe import Universe',\n"
     ]
    }
   ],
   "metadata": {}
  },
  {
   "cell_type": "code",
   "execution_count": 2,
   "source": [
    "import sys "
   ],
   "outputs": [],
   "metadata": {}
  },
  {
   "cell_type": "code",
   "execution_count": 4,
   "source": [
    "from brownpy import universe"
   ],
   "outputs": [],
   "metadata": {}
  },
  {
   "cell_type": "code",
   "execution_count": 7,
   "source": [
    "sys.modules['brownpy.universe']"
   ],
   "outputs": [
    {
     "output_type": "execute_result",
     "data": {
      "text/plain": [
       "<module 'brownpy.universe' from 'c:\\\\users\\\\monet\\\\documents\\\\job\\\\2021_postdoc\\\\code\\\\brownpy\\\\brownpy\\\\universe.py'>"
      ]
     },
     "metadata": {},
     "execution_count": 7
    }
   ],
   "metadata": {}
  },
  {
   "cell_type": "code",
   "execution_count": 18,
   "source": [
    "seed = 1\r\n",
    "# Diffusion coefficient\r\n",
    "D = 1.5E-4 # A²/fs  (1.5E-9 m²/s) - Diffusion coefficient\r\n",
    "\r\n",
    "\"\"\"\r\n",
    "┃         ┃   ┃         ┃      ↑  \r\n",
    "┃         ┃   ┃         ┃      │\r\n",
    "┃         ┗━━━┛         ┃      │\r\n",
    "┃                       ┃ ↕ Hc │ 2 H\r\n",
    "┃         ┏━━━┓         ┃      │\r\n",
    "┃         ┃   ┃         ┃      │\r\n",
    "┃         ┃   ┃         ┃      ↓\r\n",
    " ←-------→ ←-→ ←-------→\r\n",
    "     L      Lc     L\r\n",
    "\"\"\"\r\n",
    "# Conversion into my notation\r\n",
    "Hc = 1E2 # A (10nm) - Channel width\r\n",
    "L = 250*Hc # Channel depth\r\n",
    "H_factor = 1\r\n",
    "H = H_factor*Hc # Distance between channel\r\n",
    "ar_factor = 100\r\n",
    "Lc = ar_factor*Hc # Channel length\r\n",
    "\r\n",
    "# Timestep \r\n",
    "dt = int(0.05*Hc**2/D)\r\n",
    "N = 2*1024\r\n",
    "print(f'dt = {dt:.2e} fs = {prefix(dt*1E-15)}s')\r\n",
    "\r\n",
    "Nsteps = int(1.5*1E6/0.05) \r\n",
    "print(f\"Number of steps : {Nsteps:.2e} = {prefix(dt*Nsteps*1E-15)}s\")\r\n",
    "\r\n",
    "\r\n",
    "top = Top.ElasticChannel2(Hc=Hc, Lc=Lc, \r\n",
    "                          H=H, L=L)\r\n",
    "u=Universe(N=N, top=top, D=D, dt=dt,\r\n",
    "           output_path=f'./4/channel/{H_factor}_{ar_factor}',\r\n",
    "           overwrite=True, seed=seed)"
   ],
   "outputs": [
    {
     "output_type": "stream",
     "name": "stdout",
     "text": [
      "dt = 3.33e+06 fs = 3.33 ns\n",
      "Number of steps : 3.00e+07 = 100 ms\n"
     ]
    }
   ],
   "metadata": {}
  },
  {
   "cell_type": "code",
   "execution_count": 19,
   "source": [
    "u.pos[0]"
   ],
   "outputs": [
    {
     "output_type": "execute_result",
     "data": {
      "text/plain": [
       "array([5591.081  ,   90.09274], dtype=float32)"
      ]
     },
     "metadata": {},
     "execution_count": 19
    }
   ],
   "metadata": {}
  },
  {
   "cell_type": "code",
   "execution_count": 20,
   "source": [
    "#GPU\r\n",
    "u.run(Nsteps//100, target='cpu', seed=seed)"
   ],
   "outputs": [
    {
     "output_type": "stream",
     "name": "stderr",
     "text": [
      "100%|██████████| 300000/300000 [00:18<00:00, 15982.88it/s, total=1e+03 µs]"
     ]
    },
    {
     "output_type": "stream",
     "name": "stdout",
     "text": [
      "With 2048 particles\n",
      "------------------------------------------\n",
      "CPU time per step and per particles:\n",
      "Total: 30.6 ns\n",
      "------------------------------------------\n",
      "For a timestep of 3.33 ns\n",
      "To simulate the trajectory of 1 particle during 1 s, we need 9.17  s\n"
     ]
    },
    {
     "output_type": "stream",
     "name": "stderr",
     "text": [
      "\n"
     ]
    }
   ],
   "metadata": {}
  },
  {
   "cell_type": "code",
   "execution_count": 21,
   "source": [
    "u.pos[0]"
   ],
   "outputs": [
    {
     "output_type": "execute_result",
     "data": {
      "text/plain": [
       "array([11408.05    ,    77.026375], dtype=float32)"
      ]
     },
     "metadata": {},
     "execution_count": 21
    }
   ],
   "metadata": {}
  },
  {
   "cell_type": "code",
   "execution_count": 22,
   "source": [
    "u.engine.parallel_diagnostics()"
   ],
   "outputs": [
    {
     "output_type": "stream",
     "name": "stdout",
     "text": [
      " \n",
      "================================================================================\n",
      " Parallel Accelerator Optimizing:  Function \n",
      "Universe._gen_engine.<locals>.engine, \n",
      "c:\\users\\monet\\documents\\job\\2021_postdoc\\code\\brownpy\\brownpy\\gpu_sim.py (402)\n",
      "  \n",
      "================================================================================\n",
      "\n",
      "\n",
      "Parallel loop listing for  Function Universe._gen_engine.<locals>.engine, c:\\users\\monet\\documents\\job\\2021_postdoc\\code\\brownpy\\brownpy\\gpu_sim.py (402) \n",
      "-----------------------------------------------------------------------------------------------------------------------------------|loop #ID\n",
      "      @nb.njit(parallel=True)                                                                                                      | \n",
      "      def engine(r0, t0, N_steps, inside, seeds, trajectory, freq_dumps,                                                           | \n",
      "                _internal_states):                                                                                                 | \n",
      "        \"\"\"Physical engine function compiled in CUDA to simulate pure brownian                                                     | \n",
      "        motion particles.                                                                                                          | \n",
      "                                                                                                                                   | \n",
      "        Args:                                                                                                                      | \n",
      "          r0 (float32[:,2]): Initial position of particles                                                                         | \n",
      "          N_steps (uint64): Number of simulation step                                                                              | \n",
      "          inside (uint32[:,:]): ouput array that will store the number of particles in predefinned regions as function of time     | \n",
      "          rng_states (xoroshiro128p_dtype[:]): array of RNG states                                                                 | \n",
      "          trajectory (float32[:,2,N_dumps]): output trajectory                                                                     | \n",
      "        \"\"\"                                                                                                                        | \n",
      "        dx, dz = nb.float32(0.0), nb.float32(0.0)                                                                                  | \n",
      "        for pos in nb.prange(r0.shape[0]):-----------------------------------------------------------------------------------------| #3\n",
      "          np.random.seed(seeds[pos])                                                                                               | \n",
      "          x0, z0 = r0[pos, 0], r0[pos, 1]                                                                                          | \n",
      "          i_dump = 0                                                                                                               | \n",
      "                                                                                                                                   | \n",
      "          internal_state = np.zeros(1, dtype=nb.uint32)----------------------------------------------------------------------------| #2\n",
      "          for i in range(_internal_states.shape[1]):                                                                               | \n",
      "            internal_state[i] = _internal_states[pos, i]                                                                           | \n",
      "                                                                                                                                   | \n",
      "          for step in range(N_steps):                                                                                              | \n",
      "            dx = scale*np.random.standard_normal()                                                                                 | \n",
      "            dz = scale*np.random.standard_normal()                                                                                 | \n",
      "            x1 = x0 + dx                                                                                                           | \n",
      "            z1 = z0 + dz                                                                                                           | \n",
      "                                                                                                                                   | \n",
      "            x1, z1 = compute_boundary_condition(x0, z0, x1, z1, seeds, internal_state)                                             | \n",
      "            check_region(x1, z1, inside, step, internal_state)                                                                     | \n",
      "                                                                                                                                   | \n",
      "            x0 = x1                                                                                                                | \n",
      "            z0 = z1                                                                                                                | \n",
      "            if do_traj_dump:                                                                                                       | \n",
      "              if (step + 1 + t0)%freq_dumps == 0:                                                                                  | \n",
      "                trajectory[pos, 0, i_dump] = x0                                                                                    | \n",
      "                trajectory[pos, 1, i_dump] = z0                                                                                    | \n",
      "                i_dump += 1                                                                                                        | \n",
      "          r0[pos, 0] = x0                                                                                                          | \n",
      "          r0[pos, 1] = z0                                                                                                          | \n",
      "                                                                                                                                   | \n",
      "          for i in range(_internal_states.shape[1]):                                                                               | \n",
      "            _internal_states[pos, i] = internal_state[i]                                                                           | \n",
      "                                                                                                                                   | \n",
      "        t0 += N_steps                                                                                                              | \n",
      "------------------------------ After Optimisation ------------------------------\n",
      "Parallel region 0:\n",
      "+--3 (parallel)\n",
      "   +--2 (serial)\n",
      "\n",
      "\n",
      " \n",
      "Parallel region 0 (loop #3) had 0 loop(s) fused and 1 loop(s) serialized as part\n",
      " of the larger parallel loop (#3).\n",
      "--------------------------------------------------------------------------------\n",
      "--------------------------------------------------------------------------------\n",
      " \n"
     ]
    }
   ],
   "metadata": {}
  },
  {
   "cell_type": "code",
   "execution_count": 23,
   "source": [
    "u.f"
   ],
   "outputs": [
    {
     "output_type": "execute_result",
     "data": {
      "text/plain": [
       "/date = Created Wed Sep  8 18:49:56 2021\n",
       "/dt = 3333333\n",
       "/dtype = float32\n",
       "/ndim = 2\n",
       "/source = Created with BM_cuda\n",
       "/units = real\n",
       "/version = 0.1.0b\n",
       "/geometry/H = 100.0\n",
       "/geometry/Hc = 100.0\n",
       "/geometry/L = 25000.0\n",
       "/geometry/Lc = 10000.0\n",
       "/geometry/name = ElasticChannel2\n",
       "/geometry/version = 0.0.2\n",
       "/particles/N = 2048\n",
       "/particles/initial_seed = 1\n",
       "/particles/0/D = 0.00015\n",
       "/particles/0/type = 0\n",
       "/particles/initial_pos - float32((2048, 2))\n",
       "/particles/type - uint8((2048,))\n",
       "/run/N_runs = 0\n",
       "/run/0/N_steps = 300000\n",
       "/run/0/seed = 1\n",
       "/run/0/status = COMPLETED\n",
       "/run/0/step_f = 300000\n",
       "/run/0/step_i = 0\n",
       "/run/0/target = cpu\n",
       "/run/0/regions/left - uint16((300000,))\n",
       "/run/0/regions/right - uint16((300000,))"
      ]
     },
     "metadata": {},
     "execution_count": 23
    }
   ],
   "metadata": {}
  },
  {
   "cell_type": "code",
   "execution_count": 7,
   "source": [
    "#CPU\r\n",
    "u.run(Nsteps//10, target='cpu', regions=[])"
   ],
   "outputs": [
    {
     "output_type": "stream",
     "name": "stderr",
     "text": [
      "100%|██████████| 3000000/3000000 [02:18<00:00, 21609.98it/s, total=10 ms]"
     ]
    },
    {
     "output_type": "stream",
     "name": "stdout",
     "text": [
      "With 2048 particles\n",
      "------------------------------------------\n",
      "CPU time per step and per particles:\n",
      "Total: 22.6 ns\n",
      "------------------------------------------\n",
      "For a timestep of 3.33 ns\n",
      "To simulate the trajectory of 1 particle during 1 s, we need 6.78  s\n"
     ]
    },
    {
     "output_type": "stream",
     "name": "stderr",
     "text": [
      "\n"
     ]
    }
   ],
   "metadata": {}
  },
  {
   "cell_type": "code",
   "execution_count": 8,
   "source": [
    "#GPU\r\n",
    "u.run(Nsteps//100, target='cpu', freq_dumps=100)"
   ],
   "outputs": [
    {
     "output_type": "stream",
     "name": "stderr",
     "text": [
      "100%|██████████| 300000/300000 [00:16<00:00, 17796.90it/s, total=1e+03 µs]"
     ]
    },
    {
     "output_type": "stream",
     "name": "stdout",
     "text": [
      "With 2048 particles\n",
      "------------------------------------------\n",
      "CPU time per step and per particles:\n",
      "Total: 27.4 ns\n",
      "------------------------------------------\n",
      "For a timestep of 3.33 ns\n",
      "To simulate the trajectory of 1 particle during 1 s, we need 8.23  s\n"
     ]
    },
    {
     "output_type": "stream",
     "name": "stderr",
     "text": [
      "\n"
     ]
    }
   ],
   "metadata": {}
  },
  {
   "cell_type": "code",
   "execution_count": 12,
   "source": [
    "traj = u.f['/run/5/trajectory']"
   ],
   "outputs": [],
   "metadata": {}
  },
  {
   "cell_type": "code",
   "execution_count": 16,
   "source": [
    "u.top.plot()\r\n",
    "plt.plot(traj[0,0,:], traj[0,1,:])\r\n",
    "# plt.xlim(traj[0,0,:].min(), traj[0,0,:].max())\r\n",
    "# plt.aspect()"
   ],
   "outputs": [
    {
     "output_type": "execute_result",
     "data": {
      "text/plain": [
       "(-29985.984375, -7319.5009765625)"
      ]
     },
     "metadata": {},
     "execution_count": 16
    },
    {
     "output_type": "display_data",
     "data": {
      "image/png": "[encoded data removed]",
      "text/plain": [
       "<Figure size 640x480 with 1 Axes>"
      ]
     },
     "metadata": {}
    }
   ],
   "metadata": {}
  },
  {
   "cell_type": "code",
   "execution_count": 15,
   "source": [
    "t0 = time.perf_counter_ns()\r\n",
    "time.sleep(1)\r\n",
    "time.perf_counter_ns() - t0"
   ],
   "outputs": [
    {
     "output_type": "execute_result",
     "data": {
      "text/plain": [
       "1005665600"
      ]
     },
     "metadata": {},
     "execution_count": 15
    }
   ],
   "metadata": {}
  },
  {
   "cell_type": "code",
   "execution_count": 12,
   "source": [
    "time.perf_counter_ns()"
   ],
   "outputs": [
    {
     "output_type": "execute_result",
     "data": {
      "text/plain": [
       "12284586829900"
      ]
     },
     "metadata": {},
     "execution_count": 12
    }
   ],
   "metadata": {}
  },
  {
   "cell_type": "code",
   "execution_count": 5,
   "source": [
    "#GPU\r\n",
    "u.run(Nsteps//100, freq_dumps=100)"
   ],
   "outputs": [
    {
     "output_type": "stream",
     "name": "stderr",
     "text": [
      "100%|██████████| 300000/300000 [00:02<00:00, 100366.95it/s, total=3 ms]"
     ]
    },
    {
     "output_type": "stream",
     "name": "stdout",
     "text": [
      "With 2048 particles\n",
      "------------------------------------------\n",
      "GPU time per step and per particles:\n",
      "Allocation: 39.9 fs\n",
      "Engine: 4.66 ns\n",
      "Transfert to RAM: 34.5 ps\n",
      "Total: 4.69 ns\n",
      "------------------------------------------\n",
      "CPU time per step and per particles:\n",
      "Total: 4.87 ns\n",
      "------------------------------------------\n",
      "For a timestep of 3.33 ns\n",
      "To simulate the trajectory of 1 particle during 1 s, we need 1.46  s\n"
     ]
    },
    {
     "output_type": "stream",
     "name": "stderr",
     "text": [
      "\n"
     ]
    }
   ],
   "metadata": {}
  },
  {
   "cell_type": "code",
   "execution_count": 4,
   "source": [
    "#CPU\r\n",
    "u.run(Nsteps//100)"
   ],
   "outputs": [
    {
     "output_type": "stream",
     "name": "stderr",
     "text": [
      "100%|██████████| 300000/300000 [00:14<00:00, 20960.32it/s, total=2 ms]"
     ]
    },
    {
     "output_type": "stream",
     "name": "stdout",
     "text": [
      "With 2048 particles\n",
      "------------------------------------------\n",
      "CPU time per step and per particles:\n",
      "Total: 23.3 ns\n",
      "------------------------------------------\n",
      "For a timestep of 3.33 ns\n",
      "To simulate the trajectory of 1 particle during 1 s, we need 6.99  s\n"
     ]
    },
    {
     "output_type": "stream",
     "name": "stderr",
     "text": [
      "\n"
     ]
    }
   ],
   "metadata": {}
  },
  {
   "cell_type": "code",
   "execution_count": 6,
   "source": [
    "#CPU\r\n",
    "u.run(10000, freq_dumps=100)"
   ],
   "outputs": [
    {
     "output_type": "stream",
     "name": "stderr",
     "text": [
      "100%|██████████| 10000/10000 [00:00<00:00, 15250.23it/s, total=2.04 ms]"
     ]
    },
    {
     "output_type": "stream",
     "name": "stdout",
     "text": [
      "With 2048 particles\n",
      "------------------------------------------\n",
      "CPU time per step and per particles:\n",
      "Total: 32.2 ns\n",
      "------------------------------------------\n",
      "For a timestep of 3.33 ns\n",
      "To simulate the trajectory of 1 particle during 1 s, we need 9.65  s\n"
     ]
    },
    {
     "output_type": "stream",
     "name": "stderr",
     "text": [
      "\n"
     ]
    }
   ],
   "metadata": {}
  },
  {
   "cell_type": "code",
   "execution_count": 13,
   "source": [
    "from pathlib import PosixPath"
   ],
   "outputs": [],
   "metadata": {}
  },
  {
   "cell_type": "code",
   "execution_count": 16,
   "source": [
    "items_path  = ('run/0/trajectory').split('/')"
   ],
   "outputs": [],
   "metadata": {}
  },
  {
   "cell_type": "code",
   "execution_count": 19,
   "source": [
    "'/'.join(items_path[:-1])"
   ],
   "outputs": [
    {
     "output_type": "execute_result",
     "data": {
      "text/plain": [
       "'run/0'"
      ]
     },
     "metadata": {},
     "execution_count": 19
    }
   ],
   "metadata": {}
  },
  {
   "cell_type": "code",
   "execution_count": 14,
   "source": [
    "str(PurePath('run/0/trajectory').parent)"
   ],
   "outputs": [
    {
     "output_type": "error",
     "ename": "NotImplementedError",
     "evalue": "cannot instantiate 'PosixPath' on your system",
     "traceback": [
      "\u001b[1;31m---------------------------------------------------------------------------\u001b[0m",
      "\u001b[1;31mNotImplementedError\u001b[0m                       Traceback (most recent call last)",
      "\u001b[1;32m<ipython-input-14-db509ab80403>\u001b[0m in \u001b[0;36m<module>\u001b[1;34m\u001b[0m\n\u001b[1;32m----> 1\u001b[1;33m \u001b[0mstr\u001b[0m\u001b[1;33m(\u001b[0m\u001b[0mPosixPath\u001b[0m\u001b[1;33m(\u001b[0m\u001b[1;34m'run/0/trajectory'\u001b[0m\u001b[1;33m)\u001b[0m\u001b[1;33m.\u001b[0m\u001b[0mparent\u001b[0m\u001b[1;33m)\u001b[0m\u001b[1;33m\u001b[0m\u001b[1;33m\u001b[0m\u001b[0m\n\u001b[0m",
      "\u001b[1;32m~\\anaconda3\\lib\\pathlib.py\u001b[0m in \u001b[0;36m__new__\u001b[1;34m(cls, *args, **kwargs)\u001b[0m\n\u001b[0;32m   1041\u001b[0m         \u001b[0mself\u001b[0m \u001b[1;33m=\u001b[0m \u001b[0mcls\u001b[0m\u001b[1;33m.\u001b[0m\u001b[0m_from_parts\u001b[0m\u001b[1;33m(\u001b[0m\u001b[0margs\u001b[0m\u001b[1;33m,\u001b[0m \u001b[0minit\u001b[0m\u001b[1;33m=\u001b[0m\u001b[1;32mFalse\u001b[0m\u001b[1;33m)\u001b[0m\u001b[1;33m\u001b[0m\u001b[1;33m\u001b[0m\u001b[0m\n\u001b[0;32m   1042\u001b[0m         \u001b[1;32mif\u001b[0m \u001b[1;32mnot\u001b[0m \u001b[0mself\u001b[0m\u001b[1;33m.\u001b[0m\u001b[0m_flavour\u001b[0m\u001b[1;33m.\u001b[0m\u001b[0mis_supported\u001b[0m\u001b[1;33m:\u001b[0m\u001b[1;33m\u001b[0m\u001b[1;33m\u001b[0m\u001b[0m\n\u001b[1;32m-> 1043\u001b[1;33m             raise NotImplementedError(\"cannot instantiate %r on your system\"\n\u001b[0m\u001b[0;32m   1044\u001b[0m                                       % (cls.__name__,))\n\u001b[0;32m   1045\u001b[0m         \u001b[0mself\u001b[0m\u001b[1;33m.\u001b[0m\u001b[0m_init\u001b[0m\u001b[1;33m(\u001b[0m\u001b[1;33m)\u001b[0m\u001b[1;33m\u001b[0m\u001b[1;33m\u001b[0m\u001b[0m\n",
      "\u001b[1;31mNotImplementedError\u001b[0m: cannot instantiate 'PosixPath' on your system"
     ]
    }
   ],
   "metadata": {}
  },
  {
   "cell_type": "code",
   "execution_count": 7,
   "source": [
    "data['trajectory'].shape"
   ],
   "outputs": [
    {
     "output_type": "execute_result",
     "data": {
      "text/plain": [
       "(2048, 2, 10)"
      ]
     },
     "metadata": {},
     "execution_count": 7
    }
   ],
   "metadata": {}
  },
  {
   "cell_type": "code",
   "execution_count": 4,
   "source": [
    "f = h5py.File(u.output_path, 'r')"
   ],
   "outputs": [],
   "metadata": {}
  },
  {
   "cell_type": "code",
   "execution_count": 8,
   "source": [
    "f['run/0/regions/left']"
   ],
   "outputs": [
    {
     "output_type": "execute_result",
     "data": {
      "text/plain": [
       "<HDF5 dataset \"left\": shape (300000,), type \"<u2\">"
      ]
     },
     "metadata": {},
     "execution_count": 8
    }
   ],
   "metadata": {}
  },
  {
   "cell_type": "code",
   "execution_count": 1,
   "source": [
    "gpu_sim._GPU_COMPUTATION = False"
   ],
   "outputs": [
    {
     "output_type": "error",
     "ename": "NameError",
     "evalue": "name 'gpu_sim' is not defined",
     "traceback": [
      "\u001b[1;31m---------------------------------------------------------------------------\u001b[0m",
      "\u001b[1;31mNameError\u001b[0m                                 Traceback (most recent call last)",
      "\u001b[1;32m<ipython-input-1-107b4ebd8c47>\u001b[0m in \u001b[0;36m<module>\u001b[1;34m\u001b[0m\n\u001b[1;32m----> 1\u001b[1;33m \u001b[0mgpu_sim\u001b[0m\u001b[1;33m.\u001b[0m\u001b[0m_GPU_COMPUTATION\u001b[0m \u001b[1;33m=\u001b[0m \u001b[1;32mFalse\u001b[0m\u001b[1;33m\u001b[0m\u001b[1;33m\u001b[0m\u001b[0m\n\u001b[0m",
      "\u001b[1;31mNameError\u001b[0m: name 'gpu_sim' is not defined"
     ]
    }
   ],
   "metadata": {}
  },
  {
   "cell_type": "code",
   "execution_count": 7,
   "source": [
    "Universe._GPU_COMPUTATION"
   ],
   "outputs": [
    {
     "output_type": "error",
     "ename": "AttributeError",
     "evalue": "type object 'Universe' has no attribute '_GPU_COMPUTATION'",
     "traceback": [
      "\u001b[1;31m---------------------------------------------------------------------------\u001b[0m",
      "\u001b[1;31mAttributeError\u001b[0m                            Traceback (most recent call last)",
      "\u001b[1;32m<ipython-input-7-2ea593f7d6c1>\u001b[0m in \u001b[0;36m<module>\u001b[1;34m\u001b[0m\n\u001b[1;32m----> 1\u001b[1;33m \u001b[0mUniverse\u001b[0m\u001b[1;33m.\u001b[0m\u001b[0m_GPU_COMPUTATION\u001b[0m\u001b[1;33m\u001b[0m\u001b[1;33m\u001b[0m\u001b[0m\n\u001b[0m",
      "\u001b[1;31mAttributeError\u001b[0m: type object 'Universe' has no attribute '_GPU_COMPUTATION'"
     ]
    }
   ],
   "metadata": {}
  },
  {
   "cell_type": "code",
   "execution_count": 5,
   "source": [
    "_GPU_COMPUTATION"
   ],
   "outputs": [
    {
     "output_type": "error",
     "ename": "NameError",
     "evalue": "name '_GPU_COMPUTATION' is not defined",
     "traceback": [
      "\u001b[1;31m---------------------------------------------------------------------------\u001b[0m",
      "\u001b[1;31mNameError\u001b[0m                                 Traceback (most recent call last)",
      "\u001b[1;32m<ipython-input-5-7276550399ec>\u001b[0m in \u001b[0;36m<module>\u001b[1;34m\u001b[0m\n\u001b[1;32m----> 1\u001b[1;33m \u001b[0m_GPU_COMPUTATION\u001b[0m\u001b[1;33m\u001b[0m\u001b[1;33m\u001b[0m\u001b[0m\n\u001b[0m",
      "\u001b[1;31mNameError\u001b[0m: name '_GPU_COMPUTATION' is not defined"
     ]
    }
   ],
   "metadata": {}
  },
  {
   "cell_type": "code",
   "execution_count": 5,
   "source": [
    "import cupy as cp\r\n",
    "import numpy as np\r\n",
    "from numba import cuda\r\n",
    "import time\r\n",
    "import math"
   ],
   "outputs": [],
   "metadata": {}
  },
  {
   "cell_type": "code",
   "execution_count": 61,
   "source": [
    "size = 250_000\r\n",
    "@cuda.jit\r\n",
    "def set_value(array_in, value):\r\n",
    "    pos = cuda.grid(1)\r\n",
    "    if pos<array_in.shape[1]:\r\n",
    "        for i in range(array_in.shape[0]):\r\n",
    "            array_in[i, pos] = value\r\n",
    "array_in = np.random.uniform(size=(2, 250_000))\r\n",
    "d_array_in = cuda.to_device(array_in)\r\n",
    "threadsperblock = 32\r\n",
    "blockspergrid = math.ceil(array_in.shape[1]/threadsperblock)\r\n",
    "set_value[blockspergrid, threadsperblock](d_array_in, 0)\r\n",
    "N_loops =  30\r\n",
    "t0 = time.perf_counter_ns()\r\n",
    "for _ in range(N_loops):\r\n",
    "    set_value[blockspergrid, threadsperblock](d_array_in, 0)\r\n",
    "    cuda.synchronize()\r\n",
    "dt = (time.perf_counter_ns() - t0)/N_loops\r\n",
    "print(f'{dt:.1e} ns')\r\n",
    "d_array_in.copy_to_host()"
   ],
   "outputs": [
    {
     "output_type": "stream",
     "name": "stdout",
     "text": [
      "1.7e+05 ns\n"
     ]
    },
    {
     "output_type": "execute_result",
     "data": {
      "text/plain": [
       "array([[0., 0., 0., ..., 0., 0., 0.],\n",
       "       [0., 0., 0., ..., 0., 0., 0.]])"
      ]
     },
     "metadata": {},
     "execution_count": 61
    }
   ],
   "metadata": {}
  },
  {
   "cell_type": "code",
   "execution_count": 34,
   "source": [
    "t0 = time.perf_counter_ns()\r\n",
    "for _ in range(N_loops):\r\n",
    "    array_in = np.random.uniform(size=(2, 250_000))\r\n",
    "    d_array_in = cuda.to_device(array_in)\r\n",
    "dt = (time.perf_counter_ns() - t0)/N_loops\r\n",
    "print(f'{dt:.1e} ns')"
   ],
   "outputs": [
    {
     "output_type": "stream",
     "name": "stdout",
     "text": [
      "9.6e+06 ns\n"
     ]
    }
   ],
   "metadata": {}
  },
  {
   "cell_type": "code",
   "execution_count": 39,
   "source": [
    "t0 = time.perf_counter_ns()\r\n",
    "for _ in range(N_loops):\r\n",
    "    d_array_in = cp.zeros(shape=(2, 250_000))\r\n",
    "    cuda.synchronize()\r\n",
    "dt = (time.perf_counter_ns() - t0)/N_loops\r\n",
    "print(f'{dt:.1e} ns')"
   ],
   "outputs": [
    {
     "output_type": "stream",
     "name": "stdout",
     "text": [
      "2.0e+05 ns\n"
     ]
    }
   ],
   "metadata": {}
  },
  {
   "cell_type": "code",
   "execution_count": 82,
   "source": [
    "size = 250_000\r\n",
    "@cuda.jit\r\n",
    "def set_value(array_in, value):\r\n",
    "    pos_x, pos_y = cuda.grid(2)\r\n",
    "    if pos_x<array_in.shape[0] and pos_y<array_in.shape[1]:\r\n",
    "        array_in[pos_x, pos_y] = value\r\n",
    "array_in = np.random.uniform(size=(2, 250_000))\r\n",
    "d_array_in = cuda.to_device(array_in)\r\n",
    "threadsperblock_x = 2\r\n",
    "threadsperblock_y = 32\r\n",
    "blockspergrid_x = math.ceil(array_in.shape[0]/threadsperblock_x)\r\n",
    "blockspergrid_y = math.ceil(array_in.shape[1]/threadsperblock_y)\r\n",
    "set_value[(blockspergrid_x, blockspergrid_y), (threadsperblock_x, threadsperblock_y)](d_array_in, 0)\r\n",
    "N_loops =  30\r\n",
    "t0 = time.perf_counter_ns()\r\n",
    "for _ in range(N_loops):\r\n",
    "    set_value[(blockspergrid_x, blockspergrid_y), (threadsperblock_x, threadsperblock_y)](d_array_in, 1)\r\n",
    "    cuda.synchronize()\r\n",
    "dt = (time.perf_counter_ns() - t0)/N_loops\r\n",
    "print(f'{dt:.1e} ns')"
   ],
   "outputs": [
    {
     "output_type": "stream",
     "name": "stdout",
     "text": [
      "2.1e+05 ns\n"
     ]
    }
   ],
   "metadata": {}
  },
  {
   "cell_type": "code",
   "execution_count": 99,
   "source": [
    "shape = (2, 250_000)\r\n",
    "@cuda.jit\r\n",
    "def set_value(array_in, value):\r\n",
    "    pos = cuda.grid(1)\r\n",
    "    if pos<array_in.shape[0]:\r\n",
    "        array_in[pos] = value\r\n",
    "array_in = np.random.uniform(size=shape)\r\n",
    "size = array_in.size\r\n",
    "d_array_in = cuda.to_device(array_in)\r\n",
    "d_array_in.reshape(size)\r\n",
    "threadsperblock = 32\r\n",
    "blockspergrid = math.ceil(array_in.shape[1]/threadsperblock)\r\n",
    "set_value[blockspergrid, threadsperblock](d_array_in, 0)\r\n",
    "d_array_in.reshape(shape)\r\n",
    "N_loops =  30\r\n",
    "t0 = time.perf_counter_ns()\r\n",
    "for _ in range(N_loops):\r\n",
    "    d_array_in.reshape(size)\r\n",
    "    set_value[blockspergrid, threadsperblock](d_array_in, 0)\r\n",
    "    d_array_in.reshape(shape)\r\n",
    "    cuda.synchronize()\r\n",
    "dt = (time.perf_counter_ns() - t0)/N_loops\r\n",
    "print(f'{dt:.1e} ns')\r\n",
    "d_array_in.copy_to_host()"
   ],
   "outputs": [
    {
     "output_type": "stream",
     "name": "stdout",
     "text": [
      "3.2e+06 ns\n"
     ]
    },
    {
     "output_type": "execute_result",
     "data": {
      "text/plain": [
       "array([[0., 0., 0., ..., 0., 0., 0.],\n",
       "       [0., 0., 0., ..., 0., 0., 0.]])"
      ]
     },
     "metadata": {},
     "execution_count": 99
    }
   ],
   "metadata": {}
  },
  {
   "cell_type": "code",
   "execution_count": 106,
   "source": [
    "from numba import vectorize\r\n",
    "from numba import guvectorize\r\n",
    "\r\n",
    "@guvectorize(['void(float32[:,:], float32)'], target='cuda')\r\n",
    "def cu_ufunc(x, y):\r\n",
    "    x=y"
   ],
   "outputs": [
    {
     "output_type": "error",
     "ename": "TypeError",
     "evalue": "The following target options are not supported: 'is_dynamic'",
     "traceback": [
      "\u001b[1;31m---------------------------------------------------------------------------\u001b[0m",
      "\u001b[1;31mTypeError\u001b[0m                                 Traceback (most recent call last)",
      "\u001b[1;32m<ipython-input-106-a45e240ebe0e>\u001b[0m in \u001b[0;36m<module>\u001b[1;34m\u001b[0m\n\u001b[0;32m      3\u001b[0m \u001b[1;33m\u001b[0m\u001b[0m\n\u001b[0;32m      4\u001b[0m \u001b[1;33m@\u001b[0m\u001b[0mguvectorize\u001b[0m\u001b[1;33m(\u001b[0m\u001b[1;33m[\u001b[0m\u001b[1;34m'void(float32[:,:], float32)'\u001b[0m\u001b[1;33m]\u001b[0m\u001b[1;33m,\u001b[0m \u001b[0mtarget\u001b[0m\u001b[1;33m=\u001b[0m\u001b[1;34m'cuda'\u001b[0m\u001b[1;33m)\u001b[0m\u001b[1;33m\u001b[0m\u001b[1;33m\u001b[0m\u001b[0m\n\u001b[1;32m----> 5\u001b[1;33m \u001b[1;32mdef\u001b[0m \u001b[0mcu_ufunc\u001b[0m\u001b[1;33m(\u001b[0m\u001b[0mx\u001b[0m\u001b[1;33m,\u001b[0m \u001b[0my\u001b[0m\u001b[1;33m)\u001b[0m\u001b[1;33m:\u001b[0m\u001b[1;33m\u001b[0m\u001b[1;33m\u001b[0m\u001b[0m\n\u001b[0m\u001b[0;32m      6\u001b[0m     \u001b[0mx\u001b[0m\u001b[1;33m=\u001b[0m\u001b[0my\u001b[0m\u001b[1;33m\u001b[0m\u001b[1;33m\u001b[0m\u001b[0m\n",
      "\u001b[1;32m~\\anaconda3\\lib\\site-packages\\numba\\np\\ufunc\\decorators.py\u001b[0m in \u001b[0;36mwrap\u001b[1;34m(func)\u001b[0m\n\u001b[0;32m    190\u001b[0m \u001b[1;33m\u001b[0m\u001b[0m\n\u001b[0;32m    191\u001b[0m     \u001b[1;32mdef\u001b[0m \u001b[0mwrap\u001b[0m\u001b[1;33m(\u001b[0m\u001b[0mfunc\u001b[0m\u001b[1;33m)\u001b[0m\u001b[1;33m:\u001b[0m\u001b[1;33m\u001b[0m\u001b[1;33m\u001b[0m\u001b[0m\n\u001b[1;32m--> 192\u001b[1;33m         \u001b[0mguvec\u001b[0m \u001b[1;33m=\u001b[0m \u001b[0mGUVectorize\u001b[0m\u001b[1;33m(\u001b[0m\u001b[0mfunc\u001b[0m\u001b[1;33m,\u001b[0m \u001b[0msignature\u001b[0m\u001b[1;33m,\u001b[0m \u001b[1;33m**\u001b[0m\u001b[0mkwargs\u001b[0m\u001b[1;33m)\u001b[0m\u001b[1;33m\u001b[0m\u001b[1;33m\u001b[0m\u001b[0m\n\u001b[0m\u001b[0;32m    193\u001b[0m         \u001b[1;32mfor\u001b[0m \u001b[0mfty\u001b[0m \u001b[1;32min\u001b[0m \u001b[0mftylist\u001b[0m\u001b[1;33m:\u001b[0m\u001b[1;33m\u001b[0m\u001b[1;33m\u001b[0m\u001b[0m\n\u001b[0;32m    194\u001b[0m             \u001b[0mguvec\u001b[0m\u001b[1;33m.\u001b[0m\u001b[0madd\u001b[0m\u001b[1;33m(\u001b[0m\u001b[0mfty\u001b[0m\u001b[1;33m)\u001b[0m\u001b[1;33m\u001b[0m\u001b[1;33m\u001b[0m\u001b[0m\n",
      "\u001b[1;32m~\\anaconda3\\lib\\site-packages\\numba\\np\\ufunc\\decorators.py\u001b[0m in \u001b[0;36m__new__\u001b[1;34m(cls, func, signature, **kws)\u001b[0m\n\u001b[0;32m     52\u001b[0m                        is_dynamic=is_dyn, targetoptions=kws)\n\u001b[0;32m     53\u001b[0m         \u001b[1;32melse\u001b[0m\u001b[1;33m:\u001b[0m\u001b[1;33m\u001b[0m\u001b[1;33m\u001b[0m\u001b[0m\n\u001b[1;32m---> 54\u001b[1;33m             return imp(func, signature, identity=identity, cache=cache,\n\u001b[0m\u001b[0;32m     55\u001b[0m                        targetoptions=kws)\n\u001b[0;32m     56\u001b[0m \u001b[1;33m\u001b[0m\u001b[0m\n",
      "\u001b[1;32m~\\anaconda3\\lib\\site-packages\\numba\\np\\ufunc\\deviceufunc.py\u001b[0m in \u001b[0;36m__init__\u001b[1;34m(self, func, sig, identity, cache, targetoptions)\u001b[0m\n\u001b[0;32m    440\u001b[0m             \u001b[0mopts\u001b[0m \u001b[1;33m=\u001b[0m \u001b[1;34m', '\u001b[0m\u001b[1;33m.\u001b[0m\u001b[0mjoin\u001b[0m\u001b[1;33m(\u001b[0m\u001b[1;33m[\u001b[0m\u001b[0mrepr\u001b[0m\u001b[1;33m(\u001b[0m\u001b[0mk\u001b[0m\u001b[1;33m)\u001b[0m \u001b[1;32mfor\u001b[0m \u001b[0mk\u001b[0m \u001b[1;32min\u001b[0m \u001b[0mtargetoptions\u001b[0m\u001b[1;33m.\u001b[0m\u001b[0mkeys\u001b[0m\u001b[1;33m(\u001b[0m\u001b[1;33m)\u001b[0m\u001b[1;33m]\u001b[0m\u001b[1;33m)\u001b[0m\u001b[1;33m\u001b[0m\u001b[1;33m\u001b[0m\u001b[0m\n\u001b[0;32m    441\u001b[0m             \u001b[0mfmt\u001b[0m \u001b[1;33m=\u001b[0m \u001b[1;34m\"The following target options are not supported: {0}\"\u001b[0m\u001b[1;33m\u001b[0m\u001b[1;33m\u001b[0m\u001b[0m\n\u001b[1;32m--> 442\u001b[1;33m             \u001b[1;32mraise\u001b[0m \u001b[0mTypeError\u001b[0m\u001b[1;33m(\u001b[0m\u001b[0mfmt\u001b[0m\u001b[1;33m.\u001b[0m\u001b[0mformat\u001b[0m\u001b[1;33m(\u001b[0m\u001b[0mopts\u001b[0m\u001b[1;33m)\u001b[0m\u001b[1;33m)\u001b[0m\u001b[1;33m\u001b[0m\u001b[1;33m\u001b[0m\u001b[0m\n\u001b[0m\u001b[0;32m    443\u001b[0m \u001b[1;33m\u001b[0m\u001b[0m\n\u001b[0;32m    444\u001b[0m         \u001b[0mself\u001b[0m\u001b[1;33m.\u001b[0m\u001b[0mpy_func\u001b[0m \u001b[1;33m=\u001b[0m \u001b[0mfunc\u001b[0m\u001b[1;33m\u001b[0m\u001b[1;33m\u001b[0m\u001b[0m\n",
      "\u001b[1;31mTypeError\u001b[0m: The following target options are not supported: 'is_dynamic'"
     ]
    }
   ],
   "metadata": {}
  },
  {
   "cell_type": "markdown",
   "source": [
    "# Multiple SM ?\r\n",
    "see : https://curiouscoding.nl/phd/2021/03/24/numba-cuda-speedup/"
   ],
   "metadata": {}
  },
  {
   "cell_type": "code",
   "execution_count": 9,
   "source": [
    "from numba import cuda\r\n",
    "import numpy as np\r\n",
    "import time\r\n",
    "import math"
   ],
   "outputs": [],
   "metadata": {}
  },
  {
   "cell_type": "code",
   "execution_count": 40,
   "source": [
    "N_particles = 32*1024\r\n",
    "dim = 2\r\n",
    "N_steps = 10_000_000"
   ],
   "outputs": [],
   "metadata": {}
  },
  {
   "cell_type": "code",
   "execution_count": 41,
   "source": [
    "@cuda.jit\r\n",
    "def engine(r0):\r\n",
    "    pos = cuda.grid(1)\r\n",
    "    if pos<r0.shape[0]:\r\n",
    "        x0, z0 = r0[pos]\r\n",
    "        for step in range(N_steps):\r\n",
    "            dx =  0.1\r\n",
    "            dz = -0.1\r\n",
    "            x1 = x0+dx\r\n",
    "            z1 = z0+dz\r\n",
    "            x0 = x1\r\n",
    "            z0 = z1\r\n",
    "        r0[pos, 0] = x0\r\n",
    "        r0[pos, 1] = z0\r\n",
    "\r\n",
    "r0 = np.random.normal(size=(N_particles, dim))\r\n",
    "d_r0 = cuda.to_device(r0)\r\n",
    "\r\n",
    "threadsperblock = 32\r\n",
    "blockspergrid = math.ceil(r0.shape[1]/threadsperblock)\r\n",
    "# set_value[blockspergrid, threadsperblock](d_array_in, 0)\r\n",
    "\r\n",
    "#warnmup\r\n",
    "engine[blockspergrid, threadsperblock](d_r0)"
   ],
   "outputs": [],
   "metadata": {}
  },
  {
   "cell_type": "code",
   "execution_count": 42,
   "source": [
    "N_loops = 10\r\n",
    "t0 = time.perf_counter_ns()\r\n",
    "for _ in range(N_loops):\r\n",
    "    engine[blockspergrid, threadsperblock](d_r0)\r\n",
    "cuda.synchronize()\r\n",
    "dt = (time.perf_counter_ns() - t0)/N_loops\r\n",
    "print(f'{dt:.1e} ns')"
   ],
   "outputs": [
    {
     "output_type": "stream",
     "name": "stdout",
     "text": [
      "4.6e+08 ns\n"
     ]
    }
   ],
   "metadata": {}
  },
  {
   "cell_type": "code",
   "execution_count": 43,
   "source": [
    "r0 = np.random.normal(size=(N_particles, dim))\r\n",
    "r0_chuncks = np.array_split(r0, 32, axis=0)\r\n",
    "d_r0_chuncks = [cuda.to_device(r0_chunck) for r0_chunck in r0_chuncks]"
   ],
   "outputs": [],
   "metadata": {}
  },
  {
   "cell_type": "code",
   "execution_count": 45,
   "source": [
    "N_loops = 10\r\n",
    "t0 = time.perf_counter_ns()\r\n",
    "with cuda.defer_cleanup():\r\n",
    "    for d_r0_chunck in d_r0_chuncks:\r\n",
    "        stream = cuda.stream()\r\n",
    "        threadsperblock = 32\r\n",
    "        blockspergrid = math.ceil(d_r0_chunck.shape[1]/threadsperblock)\r\n",
    "        for _ in range(N_loops):\r\n",
    "            engine[blockspergrid, threadsperblock, stream](d_r0_chunck)\r\n",
    "            \r\n",
    "cuda.synchronize()\r\n",
    "\r\n",
    "dt = (time.perf_counter_ns() - t0)/N_loops\r\n",
    "print(f'{dt:.1e} ns')"
   ],
   "outputs": [
    {
     "output_type": "stream",
     "name": "stdout",
     "text": [
      "2.8e+09 ns\n"
     ]
    }
   ],
   "metadata": {}
  },
  {
   "cell_type": "code",
   "execution_count": null,
   "source": [
    "np.split()"
   ],
   "outputs": [],
   "metadata": {}
  },
  {
   "cell_type": "code",
   "execution_count": 18,
   "source": [
    "np.array_split(r0, 32, axis=0)"
   ],
   "outputs": [
    {
     "output_type": "execute_result",
     "data": {
      "text/plain": [
       "[array([[-0.95055886,  0.30354836],\n",
       "        [-1.38166384, -1.0435196 ],\n",
       "        [ 2.09961463,  0.3978939 ],\n",
       "        ...,\n",
       "        [-0.56322255, -0.27927696],\n",
       "        [ 0.72742803, -0.59348984],\n",
       "        [ 1.98522402,  1.36200569]]),\n",
       " array([[ 0.55054005,  0.40153449],\n",
       "        [-0.43311447, -2.05263666],\n",
       "        [-0.45014779, -1.9381014 ],\n",
       "        ...,\n",
       "        [-0.30758968,  0.34961553],\n",
       "        [ 1.31370821, -1.19807565],\n",
       "        [-0.42095092, -1.13478185]]),\n",
       " array([[-0.22067776,  2.29980498],\n",
       "        [ 0.24365999, -0.44534713],\n",
       "        [ 1.10665182,  1.03156427],\n",
       "        ...,\n",
       "        [ 2.20069116, -0.10235752],\n",
       "        [-0.60742106, -0.38132975],\n",
       "        [-0.3910745 , -0.99680436]]),\n",
       " array([[ 0.0360982 ,  0.02558132],\n",
       "        [ 2.10451214, -0.1401784 ],\n",
       "        [ 0.26054197, -0.86034935],\n",
       "        ...,\n",
       "        [-0.14437127, -1.00960223],\n",
       "        [-0.12419431,  1.1737661 ],\n",
       "        [ 1.05983114, -0.1706336 ]]),\n",
       " array([[-1.14653838,  0.06620411],\n",
       "        [-0.15800221, -0.69890858],\n",
       "        [ 0.73726445,  1.17209669],\n",
       "        ...,\n",
       "        [-2.33626016, -0.12750263],\n",
       "        [ 0.84474875,  0.70999829],\n",
       "        [ 2.40994741, -0.58376338]]),\n",
       " array([[ 0.0711318 ,  0.70510509],\n",
       "        [-0.67861996, -0.34533467],\n",
       "        [-1.16082028, -0.13397667],\n",
       "        ...,\n",
       "        [ 0.72767594, -0.10136575],\n",
       "        [-1.36639639,  0.65713768],\n",
       "        [-1.49572913, -0.32027187]]),\n",
       " array([[-1.82700139, -0.54970409],\n",
       "        [ 0.5686083 , -0.20220619],\n",
       "        [ 0.35006491,  0.17535605],\n",
       "        ...,\n",
       "        [ 0.50899453, -0.35541299],\n",
       "        [-0.08643237,  0.55988524],\n",
       "        [ 0.33123675,  1.08154769]]),\n",
       " array([[-1.20844902, -1.62450504],\n",
       "        [-1.31657158,  0.32215266],\n",
       "        [-0.20205193,  0.65548341],\n",
       "        ...,\n",
       "        [ 0.68264499,  0.40399438],\n",
       "        [ 1.78306899,  1.22505535],\n",
       "        [ 0.37561435,  0.27584846]]),\n",
       " array([[ 1.21116946,  0.46320453],\n",
       "        [-0.3131693 ,  1.12104688],\n",
       "        [-0.71157055,  0.57713972],\n",
       "        ...,\n",
       "        [-1.97479583, -0.42713092],\n",
       "        [-0.34560189,  0.14144318],\n",
       "        [ 1.2356909 , -1.02947633]]),\n",
       " array([[-0.65235768,  0.28532268],\n",
       "        [-1.64086973,  1.47412409],\n",
       "        [ 0.57060643,  0.23695497],\n",
       "        ...,\n",
       "        [-0.50231921, -0.70585085],\n",
       "        [ 0.39245372, -1.81463948],\n",
       "        [ 2.27533524,  1.08525599]]),\n",
       " array([[-2.22064538, -0.14081297],\n",
       "        [-0.72617021, -0.16139317],\n",
       "        [-0.36709582, -0.88020296],\n",
       "        ...,\n",
       "        [ 1.76896727,  0.09511836],\n",
       "        [-1.17277904,  0.35891795],\n",
       "        [ 0.33811944, -0.49598499]]),\n",
       " array([[ 0.05368264,  0.59696907],\n",
       "        [-1.00756351,  0.4506802 ],\n",
       "        [-1.00361805, -0.78856262],\n",
       "        ...,\n",
       "        [-0.76880154, -0.27460328],\n",
       "        [ 1.51987889, -0.5710563 ],\n",
       "        [ 1.08010146, -0.69404275]]),\n",
       " array([[ 0.24825068, -0.70758943],\n",
       "        [-1.11075433, -0.09123787],\n",
       "        [ 1.0484989 ,  1.34197794],\n",
       "        ...,\n",
       "        [-0.71067877, -0.92063047],\n",
       "        [-0.35078853,  1.27431348],\n",
       "        [ 0.05907678,  0.68972323]]),\n",
       " array([[-1.02133246,  0.24948993],\n",
       "        [-1.05039627, -0.64981428],\n",
       "        [-0.27494305, -0.79663813],\n",
       "        ...,\n",
       "        [-0.50140182,  0.06994376],\n",
       "        [-0.17573436, -1.9773415 ],\n",
       "        [ 0.75145665, -0.44362668]]),\n",
       " array([[ 0.75212523, -0.26471667],\n",
       "        [ 0.24680697,  0.1867569 ],\n",
       "        [-0.09044084,  0.36359032],\n",
       "        ...,\n",
       "        [ 0.7163473 , -0.50258235],\n",
       "        [-1.24258173,  0.58320838],\n",
       "        [-0.59765242,  0.96493212]]),\n",
       " array([[ 0.11839736, -0.79027314],\n",
       "        [ 0.84937163,  0.85667001],\n",
       "        [ 0.95004658, -0.51527769],\n",
       "        ...,\n",
       "        [ 2.65459817,  0.53218161],\n",
       "        [ 0.16328427,  0.32692555],\n",
       "        [ 0.93097883,  1.50005766]]),\n",
       " array([[-0.42136964,  1.43825975],\n",
       "        [-0.38808373,  0.80943078],\n",
       "        [ 0.84093581, -1.8747465 ],\n",
       "        ...,\n",
       "        [-0.39075044, -2.04523099],\n",
       "        [ 0.67838872, -0.16764367],\n",
       "        [-0.69365592, -0.31734308]]),\n",
       " array([[ 1.77753651, -0.53041498],\n",
       "        [ 0.58155231,  0.54534732],\n",
       "        [-1.33561956,  0.51421086],\n",
       "        ...,\n",
       "        [ 0.59663335,  0.96477425],\n",
       "        [ 0.92533218, -0.41676847],\n",
       "        [ 0.65020775,  0.12886725]]),\n",
       " array([[-0.34495454, -0.84351424],\n",
       "        [ 0.32967923, -0.51135834],\n",
       "        [ 0.47857714,  0.64463082],\n",
       "        ...,\n",
       "        [-0.83438161,  0.81341137],\n",
       "        [ 0.55781634,  0.44911897],\n",
       "        [ 0.18823255,  0.99426647]]),\n",
       " array([[ 1.05760809, -1.01417097],\n",
       "        [ 0.00277786, -1.60040509],\n",
       "        [ 0.64898176,  0.5881329 ],\n",
       "        ...,\n",
       "        [ 1.99725537,  0.14681734],\n",
       "        [ 0.9749415 , -0.59110725],\n",
       "        [-0.67398521,  0.66735283]]),\n",
       " array([[-0.49061251, -1.67661868],\n",
       "        [-0.60011574,  0.29440876],\n",
       "        [-0.94553481,  0.43066627],\n",
       "        ...,\n",
       "        [-0.50194956,  0.23266566],\n",
       "        [ 0.29894328,  1.00058851],\n",
       "        [-0.67086246,  0.25053647]]),\n",
       " array([[-1.18312781,  0.21368852],\n",
       "        [-0.10024922, -0.43268049],\n",
       "        [ 1.08014948, -0.296311  ],\n",
       "        ...,\n",
       "        [-0.42676304,  2.01763643],\n",
       "        [ 1.81160851, -0.04655955],\n",
       "        [-1.29054773,  0.38873995]]),\n",
       " array([[-1.169616  ,  1.62757382],\n",
       "        [ 0.31818746,  0.70192124],\n",
       "        [ 1.65026495,  1.43424613],\n",
       "        ...,\n",
       "        [ 0.40536365, -0.79346294],\n",
       "        [-1.22881902,  1.26015295],\n",
       "        [-0.21659436, -1.1902838 ]]),\n",
       " array([[ 0.22783255,  1.39336978],\n",
       "        [-0.0271718 ,  1.09427254],\n",
       "        [-1.94435695,  0.45326544],\n",
       "        ...,\n",
       "        [ 0.14783159, -0.55200075],\n",
       "        [ 0.21434166,  0.22478455],\n",
       "        [ 0.17154711, -1.006235  ]]),\n",
       " array([[ 0.96394822,  0.1669112 ],\n",
       "        [-0.29315323, -1.46521792],\n",
       "        [ 1.0877429 , -0.4153804 ],\n",
       "        ...,\n",
       "        [-0.82773304, -1.67952422],\n",
       "        [ 0.35913096, -2.20468191],\n",
       "        [ 0.85794733, -0.29541522]]),\n",
       " array([[ 0.80807005, -0.10110004],\n",
       "        [-0.00411416, -0.76461078],\n",
       "        [-0.06581891,  0.29079076],\n",
       "        ...,\n",
       "        [-0.42996796,  0.00884957],\n",
       "        [ 0.24807632,  1.50912268],\n",
       "        [-0.47125941,  0.66702631]]),\n",
       " array([[-0.67093249,  0.35944819],\n",
       "        [ 1.59275681,  1.07615517],\n",
       "        [ 2.03877   ,  1.3675162 ],\n",
       "        ...,\n",
       "        [-1.03560689,  0.71516901],\n",
       "        [-0.56086429,  0.13977231],\n",
       "        [-0.84701071,  0.16346413]]),\n",
       " array([[-0.57981903, -1.47183793],\n",
       "        [ 0.44054261,  0.5090629 ],\n",
       "        [-0.19733149,  0.43773157],\n",
       "        ...,\n",
       "        [ 0.54358097, -0.52361387],\n",
       "        [-0.68320147,  0.2261302 ],\n",
       "        [ 1.07966734,  0.81998398]]),\n",
       " array([[ 1.810801  , -0.87301167],\n",
       "        [-1.27410052, -0.48276549],\n",
       "        [ 0.80826815,  0.79241858],\n",
       "        ...,\n",
       "        [-0.30109489, -2.37793495],\n",
       "        [ 2.13172894,  1.02664531],\n",
       "        [ 1.6733257 ,  2.13995381]]),\n",
       " array([[-1.32248642, -1.05894708],\n",
       "        [ 0.29420837, -1.78343125],\n",
       "        [-0.37890922, -0.72993707],\n",
       "        ...,\n",
       "        [-2.06446846,  0.62571834],\n",
       "        [ 0.50632322, -0.93992587],\n",
       "        [ 1.46220888,  0.24590233]]),\n",
       " array([[-0.6162151 , -0.71467756],\n",
       "        [ 0.80824237, -0.8381515 ],\n",
       "        [ 1.43268661, -0.30194101],\n",
       "        ...,\n",
       "        [ 0.17545904, -0.95391554],\n",
       "        [-1.40447442, -0.53235664],\n",
       "        [ 0.07605844, -0.30671714]]),\n",
       " array([[ 0.51421332, -0.32495968],\n",
       "        [ 0.11378626, -0.55247929],\n",
       "        [-0.008807  ,  0.09920344],\n",
       "        ...,\n",
       "        [ 1.03100391,  0.38803698],\n",
       "        [-0.47052307,  0.78851692],\n",
       "        [-0.51123627, -2.35498408]])]"
      ]
     },
     "metadata": {},
     "execution_count": 18
    }
   ],
   "metadata": {}
  },
  {
   "cell_type": "code",
   "execution_count": null,
   "source": [],
   "outputs": [],
   "metadata": {}
  }
 ],
 "metadata": {
  "orig_nbformat": 4,
  "language_info": {
   "name": "python",
   "version": "3.8.8",
   "mimetype": "text/x-python",
   "codemirror_mode": {
    "name": "ipython",
    "version": 3
   },
   "pygments_lexer": "ipython3",
   "nbconvert_exporter": "python",
   "file_extension": ".py"
  },
  "kernelspec": {
   "name": "python3",
   "display_name": "Python 3.8.8 64-bit"
  },
  "interpreter": {
   "hash": "d4ce2f0b9c719736e7f661a13fe0b346d5bd093966a3397b765b95efddff6c19"
  }
 },
 "nbformat": 4,
 "nbformat_minor": 2
}